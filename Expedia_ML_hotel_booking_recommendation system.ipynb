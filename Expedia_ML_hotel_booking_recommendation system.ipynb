{
 "cells": [
  {
   "cell_type": "markdown",
   "metadata": {},
   "source": [
    "Planning your dream vacation, or even a weekend escape, can be an overwhelming affair. With hundreds, even thousands, of hotels to choose from at every destination, it's difficult to know which will suit your personal preferences. Should you go with an old standby with those pillow mints you like, or risk a new hotel with a trendy pool bar? \n",
    "\n",
    "expedia icon\n",
    "\n",
    "Expedia wants to take the proverbial rabbit hole out of hotel search by providing personalized hotel recommendations to their users. This is no small task for a site with hundreds of millions of visitors every month!\n",
    "\n",
    "Currently, Expedia uses search parameters to adjust their hotel recommendations, but there aren't enough customer specific data to personalize them for each user. In this competition, Expedia is challenging you to contextualize customer data and predict the likelihood a user will stay at 100 different hotel groups.\n",
    "\n",
    "Data Description:\n",
    "\n",
    "Expedia has provided you logs of customer behavior. These include what customers searched for, how they interacted with search results (click/book), whether or not the search result was a travel package. The data in this project is a random selection from Expedia and is not representative of the overall statistics.\n",
    "\n",
    "Expedia is interested in predicting which hotel group a user is going to book. Expedia has in-house algorithms to form hotel clusters, where similar hotels for a search (based on historical price, customer star ratings, geographical locations relative to city center, etc) are grouped together. These hotel clusters serve as good identifiers to which types of hotels people are going to book, while avoiding outliers such as new hotels that don't have historical data.\n",
    "\n",
    "Your goal of this project is to predict the booking outcome (hotel cluster) for a user event, based on their search and other attributes associated with that user event.\n",
    "\n",
    "The train and test datasets are split based on time: training data from 2013 and 2014, while test data are from 2015. Training data includes all the users in the logs, including both click events and booking events. Test data only includes booking events.\n",
    "\n",
    "destinations.csv data consists of features extracted from hotel reviews text.\n",
    "\n",
    "Note that some srch_destination_id's in the train/test files don't exist in the destinations.csv file. This is because some hotels are new and don't have enough features in the latent space. Your algorithm should be able to handle this missing information."
   ]
  },
  {
   "cell_type": "markdown",
   "metadata": {},
   "source": [
    "Import libraries"
   ]
  },
  {
   "cell_type": "code",
   "execution_count": 1,
   "metadata": {},
   "outputs": [],
   "source": [
    "import numpy as np \n",
    "import pandas as pd \n",
    "import matplotlib.pyplot as plt\n",
    "import seaborn as sns\n",
    "%matplotlib inline"
   ]
  },
  {
   "cell_type": "code",
   "execution_count": 3,
   "metadata": {},
   "outputs": [],
   "source": [
    "train=pd.read_csv('/users/arissa/Desktop/expedia/train.csv', nrows=100000)\n",
    "test=pd.read_csv('/users/arissa/Desktop/expedia/test.csv', nrows=100000)"
   ]
  },
  {
   "cell_type": "code",
   "execution_count": 4,
   "metadata": {},
   "outputs": [
    {
     "data": {
      "text/html": [
       "<div>\n",
       "<style scoped>\n",
       "    .dataframe tbody tr th:only-of-type {\n",
       "        vertical-align: middle;\n",
       "    }\n",
       "\n",
       "    .dataframe tbody tr th {\n",
       "        vertical-align: top;\n",
       "    }\n",
       "\n",
       "    .dataframe thead th {\n",
       "        text-align: right;\n",
       "    }\n",
       "</style>\n",
       "<table border=\"1\" class=\"dataframe\">\n",
       "  <thead>\n",
       "    <tr style=\"text-align: right;\">\n",
       "      <th></th>\n",
       "      <th>date_time</th>\n",
       "      <th>site_name</th>\n",
       "      <th>posa_continent</th>\n",
       "      <th>user_location_country</th>\n",
       "      <th>user_location_region</th>\n",
       "      <th>user_location_city</th>\n",
       "      <th>orig_destination_distance</th>\n",
       "      <th>user_id</th>\n",
       "      <th>is_mobile</th>\n",
       "      <th>is_package</th>\n",
       "      <th>...</th>\n",
       "      <th>srch_children_cnt</th>\n",
       "      <th>srch_rm_cnt</th>\n",
       "      <th>srch_destination_id</th>\n",
       "      <th>srch_destination_type_id</th>\n",
       "      <th>is_booking</th>\n",
       "      <th>cnt</th>\n",
       "      <th>hotel_continent</th>\n",
       "      <th>hotel_country</th>\n",
       "      <th>hotel_market</th>\n",
       "      <th>hotel_cluster</th>\n",
       "    </tr>\n",
       "  </thead>\n",
       "  <tbody>\n",
       "    <tr>\n",
       "      <th>0</th>\n",
       "      <td>2014-08-11 07:46:59</td>\n",
       "      <td>2</td>\n",
       "      <td>3</td>\n",
       "      <td>66</td>\n",
       "      <td>348</td>\n",
       "      <td>48862</td>\n",
       "      <td>2234.2641</td>\n",
       "      <td>12</td>\n",
       "      <td>0</td>\n",
       "      <td>1</td>\n",
       "      <td>...</td>\n",
       "      <td>0</td>\n",
       "      <td>1</td>\n",
       "      <td>8250</td>\n",
       "      <td>1</td>\n",
       "      <td>0</td>\n",
       "      <td>3</td>\n",
       "      <td>2</td>\n",
       "      <td>50</td>\n",
       "      <td>628</td>\n",
       "      <td>1</td>\n",
       "    </tr>\n",
       "    <tr>\n",
       "      <th>1</th>\n",
       "      <td>2014-08-11 08:22:12</td>\n",
       "      <td>2</td>\n",
       "      <td>3</td>\n",
       "      <td>66</td>\n",
       "      <td>348</td>\n",
       "      <td>48862</td>\n",
       "      <td>2234.2641</td>\n",
       "      <td>12</td>\n",
       "      <td>0</td>\n",
       "      <td>1</td>\n",
       "      <td>...</td>\n",
       "      <td>0</td>\n",
       "      <td>1</td>\n",
       "      <td>8250</td>\n",
       "      <td>1</td>\n",
       "      <td>1</td>\n",
       "      <td>1</td>\n",
       "      <td>2</td>\n",
       "      <td>50</td>\n",
       "      <td>628</td>\n",
       "      <td>1</td>\n",
       "    </tr>\n",
       "    <tr>\n",
       "      <th>2</th>\n",
       "      <td>2014-08-11 08:24:33</td>\n",
       "      <td>2</td>\n",
       "      <td>3</td>\n",
       "      <td>66</td>\n",
       "      <td>348</td>\n",
       "      <td>48862</td>\n",
       "      <td>2234.2641</td>\n",
       "      <td>12</td>\n",
       "      <td>0</td>\n",
       "      <td>0</td>\n",
       "      <td>...</td>\n",
       "      <td>0</td>\n",
       "      <td>1</td>\n",
       "      <td>8250</td>\n",
       "      <td>1</td>\n",
       "      <td>0</td>\n",
       "      <td>1</td>\n",
       "      <td>2</td>\n",
       "      <td>50</td>\n",
       "      <td>628</td>\n",
       "      <td>1</td>\n",
       "    </tr>\n",
       "    <tr>\n",
       "      <th>3</th>\n",
       "      <td>2014-08-09 18:05:16</td>\n",
       "      <td>2</td>\n",
       "      <td>3</td>\n",
       "      <td>66</td>\n",
       "      <td>442</td>\n",
       "      <td>35390</td>\n",
       "      <td>913.1932</td>\n",
       "      <td>93</td>\n",
       "      <td>0</td>\n",
       "      <td>0</td>\n",
       "      <td>...</td>\n",
       "      <td>0</td>\n",
       "      <td>1</td>\n",
       "      <td>14984</td>\n",
       "      <td>1</td>\n",
       "      <td>0</td>\n",
       "      <td>1</td>\n",
       "      <td>2</td>\n",
       "      <td>50</td>\n",
       "      <td>1457</td>\n",
       "      <td>80</td>\n",
       "    </tr>\n",
       "    <tr>\n",
       "      <th>4</th>\n",
       "      <td>2014-08-09 18:08:18</td>\n",
       "      <td>2</td>\n",
       "      <td>3</td>\n",
       "      <td>66</td>\n",
       "      <td>442</td>\n",
       "      <td>35390</td>\n",
       "      <td>913.6259</td>\n",
       "      <td>93</td>\n",
       "      <td>0</td>\n",
       "      <td>0</td>\n",
       "      <td>...</td>\n",
       "      <td>0</td>\n",
       "      <td>1</td>\n",
       "      <td>14984</td>\n",
       "      <td>1</td>\n",
       "      <td>0</td>\n",
       "      <td>1</td>\n",
       "      <td>2</td>\n",
       "      <td>50</td>\n",
       "      <td>1457</td>\n",
       "      <td>21</td>\n",
       "    </tr>\n",
       "    <tr>\n",
       "      <th>...</th>\n",
       "      <td>...</td>\n",
       "      <td>...</td>\n",
       "      <td>...</td>\n",
       "      <td>...</td>\n",
       "      <td>...</td>\n",
       "      <td>...</td>\n",
       "      <td>...</td>\n",
       "      <td>...</td>\n",
       "      <td>...</td>\n",
       "      <td>...</td>\n",
       "      <td>...</td>\n",
       "      <td>...</td>\n",
       "      <td>...</td>\n",
       "      <td>...</td>\n",
       "      <td>...</td>\n",
       "      <td>...</td>\n",
       "      <td>...</td>\n",
       "      <td>...</td>\n",
       "      <td>...</td>\n",
       "      <td>...</td>\n",
       "      <td>...</td>\n",
       "    </tr>\n",
       "    <tr>\n",
       "      <th>99995</th>\n",
       "      <td>2013-04-01 14:26:31</td>\n",
       "      <td>37</td>\n",
       "      <td>1</td>\n",
       "      <td>69</td>\n",
       "      <td>612</td>\n",
       "      <td>3062</td>\n",
       "      <td>NaN</td>\n",
       "      <td>391007</td>\n",
       "      <td>0</td>\n",
       "      <td>0</td>\n",
       "      <td>...</td>\n",
       "      <td>0</td>\n",
       "      <td>1</td>\n",
       "      <td>20590</td>\n",
       "      <td>6</td>\n",
       "      <td>0</td>\n",
       "      <td>1</td>\n",
       "      <td>6</td>\n",
       "      <td>180</td>\n",
       "      <td>1518</td>\n",
       "      <td>30</td>\n",
       "    </tr>\n",
       "    <tr>\n",
       "      <th>99996</th>\n",
       "      <td>2013-04-01 17:01:22</td>\n",
       "      <td>37</td>\n",
       "      <td>1</td>\n",
       "      <td>69</td>\n",
       "      <td>612</td>\n",
       "      <td>3062</td>\n",
       "      <td>NaN</td>\n",
       "      <td>391007</td>\n",
       "      <td>0</td>\n",
       "      <td>0</td>\n",
       "      <td>...</td>\n",
       "      <td>0</td>\n",
       "      <td>1</td>\n",
       "      <td>9820</td>\n",
       "      <td>3</td>\n",
       "      <td>0</td>\n",
       "      <td>1</td>\n",
       "      <td>6</td>\n",
       "      <td>180</td>\n",
       "      <td>1737</td>\n",
       "      <td>5</td>\n",
       "    </tr>\n",
       "    <tr>\n",
       "      <th>99997</th>\n",
       "      <td>2013-04-01 17:04:26</td>\n",
       "      <td>37</td>\n",
       "      <td>1</td>\n",
       "      <td>69</td>\n",
       "      <td>612</td>\n",
       "      <td>3062</td>\n",
       "      <td>NaN</td>\n",
       "      <td>391007</td>\n",
       "      <td>0</td>\n",
       "      <td>0</td>\n",
       "      <td>...</td>\n",
       "      <td>0</td>\n",
       "      <td>1</td>\n",
       "      <td>9820</td>\n",
       "      <td>3</td>\n",
       "      <td>0</td>\n",
       "      <td>1</td>\n",
       "      <td>6</td>\n",
       "      <td>180</td>\n",
       "      <td>1737</td>\n",
       "      <td>93</td>\n",
       "    </tr>\n",
       "    <tr>\n",
       "      <th>99998</th>\n",
       "      <td>2013-04-01 17:05:01</td>\n",
       "      <td>37</td>\n",
       "      <td>1</td>\n",
       "      <td>69</td>\n",
       "      <td>612</td>\n",
       "      <td>3062</td>\n",
       "      <td>NaN</td>\n",
       "      <td>391007</td>\n",
       "      <td>0</td>\n",
       "      <td>0</td>\n",
       "      <td>...</td>\n",
       "      <td>0</td>\n",
       "      <td>1</td>\n",
       "      <td>9820</td>\n",
       "      <td>3</td>\n",
       "      <td>0</td>\n",
       "      <td>1</td>\n",
       "      <td>6</td>\n",
       "      <td>180</td>\n",
       "      <td>1737</td>\n",
       "      <td>20</td>\n",
       "    </tr>\n",
       "    <tr>\n",
       "      <th>99999</th>\n",
       "      <td>2013-04-01 18:15:01</td>\n",
       "      <td>37</td>\n",
       "      <td>1</td>\n",
       "      <td>69</td>\n",
       "      <td>612</td>\n",
       "      <td>3062</td>\n",
       "      <td>NaN</td>\n",
       "      <td>391007</td>\n",
       "      <td>0</td>\n",
       "      <td>0</td>\n",
       "      <td>...</td>\n",
       "      <td>0</td>\n",
       "      <td>1</td>\n",
       "      <td>30326</td>\n",
       "      <td>3</td>\n",
       "      <td>0</td>\n",
       "      <td>1</td>\n",
       "      <td>6</td>\n",
       "      <td>180</td>\n",
       "      <td>1518</td>\n",
       "      <td>3</td>\n",
       "    </tr>\n",
       "  </tbody>\n",
       "</table>\n",
       "<p>100000 rows × 24 columns</p>\n",
       "</div>"
      ],
      "text/plain": [
       "                 date_time  site_name  posa_continent  user_location_country  \\\n",
       "0      2014-08-11 07:46:59          2               3                     66   \n",
       "1      2014-08-11 08:22:12          2               3                     66   \n",
       "2      2014-08-11 08:24:33          2               3                     66   \n",
       "3      2014-08-09 18:05:16          2               3                     66   \n",
       "4      2014-08-09 18:08:18          2               3                     66   \n",
       "...                    ...        ...             ...                    ...   \n",
       "99995  2013-04-01 14:26:31         37               1                     69   \n",
       "99996  2013-04-01 17:01:22         37               1                     69   \n",
       "99997  2013-04-01 17:04:26         37               1                     69   \n",
       "99998  2013-04-01 17:05:01         37               1                     69   \n",
       "99999  2013-04-01 18:15:01         37               1                     69   \n",
       "\n",
       "       user_location_region  user_location_city  orig_destination_distance  \\\n",
       "0                       348               48862                  2234.2641   \n",
       "1                       348               48862                  2234.2641   \n",
       "2                       348               48862                  2234.2641   \n",
       "3                       442               35390                   913.1932   \n",
       "4                       442               35390                   913.6259   \n",
       "...                     ...                 ...                        ...   \n",
       "99995                   612                3062                        NaN   \n",
       "99996                   612                3062                        NaN   \n",
       "99997                   612                3062                        NaN   \n",
       "99998                   612                3062                        NaN   \n",
       "99999                   612                3062                        NaN   \n",
       "\n",
       "       user_id  is_mobile  is_package  ...  srch_children_cnt srch_rm_cnt  \\\n",
       "0           12          0           1  ...                  0           1   \n",
       "1           12          0           1  ...                  0           1   \n",
       "2           12          0           0  ...                  0           1   \n",
       "3           93          0           0  ...                  0           1   \n",
       "4           93          0           0  ...                  0           1   \n",
       "...        ...        ...         ...  ...                ...         ...   \n",
       "99995   391007          0           0  ...                  0           1   \n",
       "99996   391007          0           0  ...                  0           1   \n",
       "99997   391007          0           0  ...                  0           1   \n",
       "99998   391007          0           0  ...                  0           1   \n",
       "99999   391007          0           0  ...                  0           1   \n",
       "\n",
       "      srch_destination_id  srch_destination_type_id  is_booking  cnt  \\\n",
       "0                    8250                         1           0    3   \n",
       "1                    8250                         1           1    1   \n",
       "2                    8250                         1           0    1   \n",
       "3                   14984                         1           0    1   \n",
       "4                   14984                         1           0    1   \n",
       "...                   ...                       ...         ...  ...   \n",
       "99995               20590                         6           0    1   \n",
       "99996                9820                         3           0    1   \n",
       "99997                9820                         3           0    1   \n",
       "99998                9820                         3           0    1   \n",
       "99999               30326                         3           0    1   \n",
       "\n",
       "       hotel_continent  hotel_country  hotel_market  hotel_cluster  \n",
       "0                    2             50           628              1  \n",
       "1                    2             50           628              1  \n",
       "2                    2             50           628              1  \n",
       "3                    2             50          1457             80  \n",
       "4                    2             50          1457             21  \n",
       "...                ...            ...           ...            ...  \n",
       "99995                6            180          1518             30  \n",
       "99996                6            180          1737              5  \n",
       "99997                6            180          1737             93  \n",
       "99998                6            180          1737             20  \n",
       "99999                6            180          1518              3  \n",
       "\n",
       "[100000 rows x 24 columns]"
      ]
     },
     "execution_count": 4,
     "metadata": {},
     "output_type": "execute_result"
    }
   ],
   "source": [
    "train"
   ]
  },
  {
   "cell_type": "code",
   "execution_count": 5,
   "metadata": {},
   "outputs": [
    {
     "data": {
      "text/html": [
       "<div>\n",
       "<style scoped>\n",
       "    .dataframe tbody tr th:only-of-type {\n",
       "        vertical-align: middle;\n",
       "    }\n",
       "\n",
       "    .dataframe tbody tr th {\n",
       "        vertical-align: top;\n",
       "    }\n",
       "\n",
       "    .dataframe thead th {\n",
       "        text-align: right;\n",
       "    }\n",
       "</style>\n",
       "<table border=\"1\" class=\"dataframe\">\n",
       "  <thead>\n",
       "    <tr style=\"text-align: right;\">\n",
       "      <th></th>\n",
       "      <th>id</th>\n",
       "      <th>date_time</th>\n",
       "      <th>site_name</th>\n",
       "      <th>posa_continent</th>\n",
       "      <th>user_location_country</th>\n",
       "      <th>user_location_region</th>\n",
       "      <th>user_location_city</th>\n",
       "      <th>orig_destination_distance</th>\n",
       "      <th>user_id</th>\n",
       "      <th>is_mobile</th>\n",
       "      <th>...</th>\n",
       "      <th>srch_ci</th>\n",
       "      <th>srch_co</th>\n",
       "      <th>srch_adults_cnt</th>\n",
       "      <th>srch_children_cnt</th>\n",
       "      <th>srch_rm_cnt</th>\n",
       "      <th>srch_destination_id</th>\n",
       "      <th>srch_destination_type_id</th>\n",
       "      <th>hotel_continent</th>\n",
       "      <th>hotel_country</th>\n",
       "      <th>hotel_market</th>\n",
       "    </tr>\n",
       "  </thead>\n",
       "  <tbody>\n",
       "    <tr>\n",
       "      <th>0</th>\n",
       "      <td>0</td>\n",
       "      <td>2015-09-03 17:09:54</td>\n",
       "      <td>2</td>\n",
       "      <td>3</td>\n",
       "      <td>66</td>\n",
       "      <td>174</td>\n",
       "      <td>37449</td>\n",
       "      <td>5539.0567</td>\n",
       "      <td>1</td>\n",
       "      <td>1</td>\n",
       "      <td>...</td>\n",
       "      <td>2016-05-19</td>\n",
       "      <td>2016-05-23</td>\n",
       "      <td>2</td>\n",
       "      <td>0</td>\n",
       "      <td>1</td>\n",
       "      <td>12243</td>\n",
       "      <td>6</td>\n",
       "      <td>6</td>\n",
       "      <td>204</td>\n",
       "      <td>27</td>\n",
       "    </tr>\n",
       "    <tr>\n",
       "      <th>1</th>\n",
       "      <td>1</td>\n",
       "      <td>2015-09-24 17:38:35</td>\n",
       "      <td>2</td>\n",
       "      <td>3</td>\n",
       "      <td>66</td>\n",
       "      <td>174</td>\n",
       "      <td>37449</td>\n",
       "      <td>5873.2923</td>\n",
       "      <td>1</td>\n",
       "      <td>1</td>\n",
       "      <td>...</td>\n",
       "      <td>2016-05-12</td>\n",
       "      <td>2016-05-15</td>\n",
       "      <td>2</td>\n",
       "      <td>0</td>\n",
       "      <td>1</td>\n",
       "      <td>14474</td>\n",
       "      <td>7</td>\n",
       "      <td>6</td>\n",
       "      <td>204</td>\n",
       "      <td>1540</td>\n",
       "    </tr>\n",
       "    <tr>\n",
       "      <th>2</th>\n",
       "      <td>2</td>\n",
       "      <td>2015-06-07 15:53:02</td>\n",
       "      <td>2</td>\n",
       "      <td>3</td>\n",
       "      <td>66</td>\n",
       "      <td>142</td>\n",
       "      <td>17440</td>\n",
       "      <td>3975.9776</td>\n",
       "      <td>20</td>\n",
       "      <td>0</td>\n",
       "      <td>...</td>\n",
       "      <td>2015-07-26</td>\n",
       "      <td>2015-07-27</td>\n",
       "      <td>4</td>\n",
       "      <td>0</td>\n",
       "      <td>1</td>\n",
       "      <td>11353</td>\n",
       "      <td>1</td>\n",
       "      <td>2</td>\n",
       "      <td>50</td>\n",
       "      <td>699</td>\n",
       "    </tr>\n",
       "    <tr>\n",
       "      <th>3</th>\n",
       "      <td>3</td>\n",
       "      <td>2015-09-14 14:49:10</td>\n",
       "      <td>2</td>\n",
       "      <td>3</td>\n",
       "      <td>66</td>\n",
       "      <td>258</td>\n",
       "      <td>34156</td>\n",
       "      <td>1508.5975</td>\n",
       "      <td>28</td>\n",
       "      <td>0</td>\n",
       "      <td>...</td>\n",
       "      <td>2015-09-14</td>\n",
       "      <td>2015-09-16</td>\n",
       "      <td>2</td>\n",
       "      <td>0</td>\n",
       "      <td>1</td>\n",
       "      <td>8250</td>\n",
       "      <td>1</td>\n",
       "      <td>2</td>\n",
       "      <td>50</td>\n",
       "      <td>628</td>\n",
       "    </tr>\n",
       "    <tr>\n",
       "      <th>4</th>\n",
       "      <td>4</td>\n",
       "      <td>2015-07-17 09:32:04</td>\n",
       "      <td>2</td>\n",
       "      <td>3</td>\n",
       "      <td>66</td>\n",
       "      <td>467</td>\n",
       "      <td>36345</td>\n",
       "      <td>66.7913</td>\n",
       "      <td>50</td>\n",
       "      <td>0</td>\n",
       "      <td>...</td>\n",
       "      <td>2015-07-22</td>\n",
       "      <td>2015-07-23</td>\n",
       "      <td>2</td>\n",
       "      <td>0</td>\n",
       "      <td>1</td>\n",
       "      <td>11812</td>\n",
       "      <td>1</td>\n",
       "      <td>2</td>\n",
       "      <td>50</td>\n",
       "      <td>538</td>\n",
       "    </tr>\n",
       "    <tr>\n",
       "      <th>...</th>\n",
       "      <td>...</td>\n",
       "      <td>...</td>\n",
       "      <td>...</td>\n",
       "      <td>...</td>\n",
       "      <td>...</td>\n",
       "      <td>...</td>\n",
       "      <td>...</td>\n",
       "      <td>...</td>\n",
       "      <td>...</td>\n",
       "      <td>...</td>\n",
       "      <td>...</td>\n",
       "      <td>...</td>\n",
       "      <td>...</td>\n",
       "      <td>...</td>\n",
       "      <td>...</td>\n",
       "      <td>...</td>\n",
       "      <td>...</td>\n",
       "      <td>...</td>\n",
       "      <td>...</td>\n",
       "      <td>...</td>\n",
       "      <td>...</td>\n",
       "    </tr>\n",
       "    <tr>\n",
       "      <th>39994</th>\n",
       "      <td>39994</td>\n",
       "      <td>2015-04-23 18:53:20</td>\n",
       "      <td>2</td>\n",
       "      <td>3</td>\n",
       "      <td>66</td>\n",
       "      <td>318</td>\n",
       "      <td>5206</td>\n",
       "      <td>611.8266</td>\n",
       "      <td>134025</td>\n",
       "      <td>0</td>\n",
       "      <td>...</td>\n",
       "      <td>2015-04-29</td>\n",
       "      <td>2015-04-30</td>\n",
       "      <td>2</td>\n",
       "      <td>0</td>\n",
       "      <td>2</td>\n",
       "      <td>12178</td>\n",
       "      <td>6</td>\n",
       "      <td>2</td>\n",
       "      <td>50</td>\n",
       "      <td>350</td>\n",
       "    </tr>\n",
       "    <tr>\n",
       "      <th>39995</th>\n",
       "      <td>39995</td>\n",
       "      <td>2015-08-14 06:56:58</td>\n",
       "      <td>2</td>\n",
       "      <td>3</td>\n",
       "      <td>66</td>\n",
       "      <td>318</td>\n",
       "      <td>55734</td>\n",
       "      <td>NaN</td>\n",
       "      <td>134025</td>\n",
       "      <td>0</td>\n",
       "      <td>...</td>\n",
       "      <td>2015-08-31</td>\n",
       "      <td>2015-09-01</td>\n",
       "      <td>1</td>\n",
       "      <td>0</td>\n",
       "      <td>1</td>\n",
       "      <td>26628</td>\n",
       "      <td>1</td>\n",
       "      <td>2</td>\n",
       "      <td>50</td>\n",
       "      <td>601</td>\n",
       "    </tr>\n",
       "    <tr>\n",
       "      <th>39996</th>\n",
       "      <td>39996</td>\n",
       "      <td>2015-09-09 12:10:38</td>\n",
       "      <td>2</td>\n",
       "      <td>3</td>\n",
       "      <td>66</td>\n",
       "      <td>318</td>\n",
       "      <td>55734</td>\n",
       "      <td>NaN</td>\n",
       "      <td>134025</td>\n",
       "      <td>0</td>\n",
       "      <td>...</td>\n",
       "      <td>2015-10-04</td>\n",
       "      <td>2015-10-07</td>\n",
       "      <td>1</td>\n",
       "      <td>0</td>\n",
       "      <td>1</td>\n",
       "      <td>25065</td>\n",
       "      <td>1</td>\n",
       "      <td>2</td>\n",
       "      <td>50</td>\n",
       "      <td>696</td>\n",
       "    </tr>\n",
       "    <tr>\n",
       "      <th>39997</th>\n",
       "      <td>39997</td>\n",
       "      <td>2015-10-02 14:00:54</td>\n",
       "      <td>2</td>\n",
       "      <td>3</td>\n",
       "      <td>66</td>\n",
       "      <td>318</td>\n",
       "      <td>29466</td>\n",
       "      <td>810.7520</td>\n",
       "      <td>134025</td>\n",
       "      <td>0</td>\n",
       "      <td>...</td>\n",
       "      <td>2015-10-06</td>\n",
       "      <td>2015-10-07</td>\n",
       "      <td>1</td>\n",
       "      <td>0</td>\n",
       "      <td>1</td>\n",
       "      <td>26194</td>\n",
       "      <td>6</td>\n",
       "      <td>2</td>\n",
       "      <td>50</td>\n",
       "      <td>1019</td>\n",
       "    </tr>\n",
       "    <tr>\n",
       "      <th>39998</th>\n",
       "      <td>39998</td>\n",
       "      <td>2015-10-05 11:54:39</td>\n",
       "      <td>2</td>\n",
       "      <td>3</td>\n",
       "      <td>66</td>\n",
       "      <td>318</td>\n",
       "      <td>29466</td>\n",
       "      <td>536.8149</td>\n",
       "      <td>134025</td>\n",
       "      <td>0</td>\n",
       "      <td>...</td>\n",
       "      <td>2015-10-12</td>\n",
       "      <td>2015-10-14</td>\n",
       "      <td>1</td>\n",
       "      <td>0</td>\n",
       "      <td>1</td>\n",
       "      <td>27717</td>\n",
       "      <td>6</td>\n",
       "      <td>2</td>\n",
       "      <td>50</td>\n",
       "      <td>646</td>\n",
       "    </tr>\n",
       "  </tbody>\n",
       "</table>\n",
       "<p>39999 rows × 22 columns</p>\n",
       "</div>"
      ],
      "text/plain": [
       "          id            date_time  site_name  posa_continent  \\\n",
       "0          0  2015-09-03 17:09:54          2               3   \n",
       "1          1  2015-09-24 17:38:35          2               3   \n",
       "2          2  2015-06-07 15:53:02          2               3   \n",
       "3          3  2015-09-14 14:49:10          2               3   \n",
       "4          4  2015-07-17 09:32:04          2               3   \n",
       "...      ...                  ...        ...             ...   \n",
       "39994  39994  2015-04-23 18:53:20          2               3   \n",
       "39995  39995  2015-08-14 06:56:58          2               3   \n",
       "39996  39996  2015-09-09 12:10:38          2               3   \n",
       "39997  39997  2015-10-02 14:00:54          2               3   \n",
       "39998  39998  2015-10-05 11:54:39          2               3   \n",
       "\n",
       "       user_location_country  user_location_region  user_location_city  \\\n",
       "0                         66                   174               37449   \n",
       "1                         66                   174               37449   \n",
       "2                         66                   142               17440   \n",
       "3                         66                   258               34156   \n",
       "4                         66                   467               36345   \n",
       "...                      ...                   ...                 ...   \n",
       "39994                     66                   318                5206   \n",
       "39995                     66                   318               55734   \n",
       "39996                     66                   318               55734   \n",
       "39997                     66                   318               29466   \n",
       "39998                     66                   318               29466   \n",
       "\n",
       "       orig_destination_distance  user_id  is_mobile  ...     srch_ci  \\\n",
       "0                      5539.0567        1          1  ...  2016-05-19   \n",
       "1                      5873.2923        1          1  ...  2016-05-12   \n",
       "2                      3975.9776       20          0  ...  2015-07-26   \n",
       "3                      1508.5975       28          0  ...  2015-09-14   \n",
       "4                        66.7913       50          0  ...  2015-07-22   \n",
       "...                          ...      ...        ...  ...         ...   \n",
       "39994                   611.8266   134025          0  ...  2015-04-29   \n",
       "39995                        NaN   134025          0  ...  2015-08-31   \n",
       "39996                        NaN   134025          0  ...  2015-10-04   \n",
       "39997                   810.7520   134025          0  ...  2015-10-06   \n",
       "39998                   536.8149   134025          0  ...  2015-10-12   \n",
       "\n",
       "          srch_co srch_adults_cnt srch_children_cnt  srch_rm_cnt  \\\n",
       "0      2016-05-23               2                 0            1   \n",
       "1      2016-05-15               2                 0            1   \n",
       "2      2015-07-27               4                 0            1   \n",
       "3      2015-09-16               2                 0            1   \n",
       "4      2015-07-23               2                 0            1   \n",
       "...           ...             ...               ...          ...   \n",
       "39994  2015-04-30               2                 0            2   \n",
       "39995  2015-09-01               1                 0            1   \n",
       "39996  2015-10-07               1                 0            1   \n",
       "39997  2015-10-07               1                 0            1   \n",
       "39998  2015-10-14               1                 0            1   \n",
       "\n",
       "       srch_destination_id  srch_destination_type_id  hotel_continent  \\\n",
       "0                    12243                         6                6   \n",
       "1                    14474                         7                6   \n",
       "2                    11353                         1                2   \n",
       "3                     8250                         1                2   \n",
       "4                    11812                         1                2   \n",
       "...                    ...                       ...              ...   \n",
       "39994                12178                         6                2   \n",
       "39995                26628                         1                2   \n",
       "39996                25065                         1                2   \n",
       "39997                26194                         6                2   \n",
       "39998                27717                         6                2   \n",
       "\n",
       "       hotel_country  hotel_market  \n",
       "0                204            27  \n",
       "1                204          1540  \n",
       "2                 50           699  \n",
       "3                 50           628  \n",
       "4                 50           538  \n",
       "...              ...           ...  \n",
       "39994             50           350  \n",
       "39995             50           601  \n",
       "39996             50           696  \n",
       "39997             50          1019  \n",
       "39998             50           646  \n",
       "\n",
       "[39999 rows x 22 columns]"
      ]
     },
     "execution_count": 5,
     "metadata": {},
     "output_type": "execute_result"
    }
   ],
   "source": [
    "test"
   ]
  },
  {
   "cell_type": "markdown",
   "metadata": {},
   "source": [
    "**All the dates in test.csv are 1 year later than the dates in train.csv .The testing set contains dates from 2015 ,and the training set contains dates from 2013 and 2014.**"
   ]
  },
  {
   "cell_type": "code",
   "execution_count": 6,
   "metadata": {},
   "outputs": [
    {
     "name": "stdout",
     "output_type": "stream",
     "text": [
      "<class 'pandas.core.frame.DataFrame'>\n",
      "RangeIndex: 100000 entries, 0 to 99999\n",
      "Data columns (total 24 columns):\n",
      " #   Column                     Non-Null Count   Dtype  \n",
      "---  ------                     --------------   -----  \n",
      " 0   date_time                  100000 non-null  object \n",
      " 1   site_name                  100000 non-null  int64  \n",
      " 2   posa_continent             100000 non-null  int64  \n",
      " 3   user_location_country      100000 non-null  int64  \n",
      " 4   user_location_region       100000 non-null  int64  \n",
      " 5   user_location_city         100000 non-null  int64  \n",
      " 6   orig_destination_distance  63078 non-null   float64\n",
      " 7   user_id                    100000 non-null  int64  \n",
      " 8   is_mobile                  100000 non-null  int64  \n",
      " 9   is_package                 100000 non-null  int64  \n",
      " 10  channel                    100000 non-null  int64  \n",
      " 11  srch_ci                    99929 non-null   object \n",
      " 12  srch_co                    99929 non-null   object \n",
      " 13  srch_adults_cnt            100000 non-null  int64  \n",
      " 14  srch_children_cnt          100000 non-null  int64  \n",
      " 15  srch_rm_cnt                100000 non-null  int64  \n",
      " 16  srch_destination_id        100000 non-null  int64  \n",
      " 17  srch_destination_type_id   100000 non-null  int64  \n",
      " 18  is_booking                 100000 non-null  int64  \n",
      " 19  cnt                        100000 non-null  int64  \n",
      " 20  hotel_continent            100000 non-null  int64  \n",
      " 21  hotel_country              100000 non-null  int64  \n",
      " 22  hotel_market               100000 non-null  int64  \n",
      " 23  hotel_cluster              100000 non-null  int64  \n",
      "dtypes: float64(1), int64(20), object(3)\n",
      "memory usage: 18.3+ MB\n"
     ]
    }
   ],
   "source": [
    "train.info()"
   ]
  },
  {
   "cell_type": "code",
   "execution_count": 8,
   "metadata": {},
   "outputs": [],
   "source": [
    "# set date as datetime\n",
    "train = pd.read_csv('/users/arissa/Desktop/expedia/train.csv', parse_dates=['date_time'] ,sep=',',nrows=200000)"
   ]
  },
  {
   "cell_type": "markdown",
   "metadata": {},
   "source": [
    "**Our goal is to predict the booking outcome (hotel cluster) for a user event, based on their search and other attributes associated with that user event. According to the description given by Expedia, there are 100 clusters in total.**"
   ]
  },
  {
   "cell_type": "markdown",
   "metadata": {},
   "source": [
    "## Missing Values"
   ]
  },
  {
   "cell_type": "code",
   "execution_count": 14,
   "metadata": {},
   "outputs": [
    {
     "data": {
      "text/plain": [
       "date_time                        0\n",
       "site_name                        0\n",
       "posa_continent                   0\n",
       "user_location_country            0\n",
       "user_location_region             0\n",
       "user_location_city               0\n",
       "orig_destination_distance    69637\n",
       "user_id                          0\n",
       "is_mobile                        0\n",
       "is_package                       0\n",
       "channel                          0\n",
       "srch_ci                        177\n",
       "srch_co                        177\n",
       "srch_adults_cnt                  0\n",
       "srch_children_cnt                0\n",
       "srch_rm_cnt                      0\n",
       "srch_destination_id              0\n",
       "srch_destination_type_id         0\n",
       "is_booking                       0\n",
       "cnt                              0\n",
       "hotel_continent                  0\n",
       "hotel_country                    0\n",
       "hotel_market                     0\n",
       "hotel_cluster                    0\n",
       "dtype: int64"
      ]
     },
     "execution_count": 14,
     "metadata": {},
     "output_type": "execute_result"
    }
   ],
   "source": [
    "train.isnull().sum()\n"
   ]
  },
  {
   "cell_type": "code",
   "execution_count": 21,
   "metadata": {},
   "outputs": [],
   "source": [
    "total=train.isnull().sum().sort_values(ascending=False)\n",
    "# calculate missing values account for what percentage \n",
    "percent=(train.isnull().sum()/train['hotel_cluster'].count()).sort_values(ascending=False)"
   ]
  },
  {
   "cell_type": "code",
   "execution_count": 22,
   "metadata": {},
   "outputs": [
    {
     "data": {
      "text/html": [
       "<div>\n",
       "<style scoped>\n",
       "    .dataframe tbody tr th:only-of-type {\n",
       "        vertical-align: middle;\n",
       "    }\n",
       "\n",
       "    .dataframe tbody tr th {\n",
       "        vertical-align: top;\n",
       "    }\n",
       "\n",
       "    .dataframe thead th {\n",
       "        text-align: right;\n",
       "    }\n",
       "</style>\n",
       "<table border=\"1\" class=\"dataframe\">\n",
       "  <thead>\n",
       "    <tr style=\"text-align: right;\">\n",
       "      <th></th>\n",
       "      <th>Total</th>\n",
       "      <th>Percent</th>\n",
       "    </tr>\n",
       "  </thead>\n",
       "  <tbody>\n",
       "    <tr>\n",
       "      <th>orig_destination_distance</th>\n",
       "      <td>69637</td>\n",
       "      <td>0.348185</td>\n",
       "    </tr>\n",
       "    <tr>\n",
       "      <th>srch_ci</th>\n",
       "      <td>177</td>\n",
       "      <td>0.000885</td>\n",
       "    </tr>\n",
       "    <tr>\n",
       "      <th>srch_co</th>\n",
       "      <td>177</td>\n",
       "      <td>0.000885</td>\n",
       "    </tr>\n",
       "    <tr>\n",
       "      <th>channel</th>\n",
       "      <td>0</td>\n",
       "      <td>0.000000</td>\n",
       "    </tr>\n",
       "    <tr>\n",
       "      <th>site_name</th>\n",
       "      <td>0</td>\n",
       "      <td>0.000000</td>\n",
       "    </tr>\n",
       "    <tr>\n",
       "      <th>posa_continent</th>\n",
       "      <td>0</td>\n",
       "      <td>0.000000</td>\n",
       "    </tr>\n",
       "    <tr>\n",
       "      <th>user_location_country</th>\n",
       "      <td>0</td>\n",
       "      <td>0.000000</td>\n",
       "    </tr>\n",
       "    <tr>\n",
       "      <th>user_location_region</th>\n",
       "      <td>0</td>\n",
       "      <td>0.000000</td>\n",
       "    </tr>\n",
       "    <tr>\n",
       "      <th>user_location_city</th>\n",
       "      <td>0</td>\n",
       "      <td>0.000000</td>\n",
       "    </tr>\n",
       "    <tr>\n",
       "      <th>user_id</th>\n",
       "      <td>0</td>\n",
       "      <td>0.000000</td>\n",
       "    </tr>\n",
       "    <tr>\n",
       "      <th>is_mobile</th>\n",
       "      <td>0</td>\n",
       "      <td>0.000000</td>\n",
       "    </tr>\n",
       "    <tr>\n",
       "      <th>is_package</th>\n",
       "      <td>0</td>\n",
       "      <td>0.000000</td>\n",
       "    </tr>\n",
       "    <tr>\n",
       "      <th>hotel_cluster</th>\n",
       "      <td>0</td>\n",
       "      <td>0.000000</td>\n",
       "    </tr>\n",
       "    <tr>\n",
       "      <th>hotel_market</th>\n",
       "      <td>0</td>\n",
       "      <td>0.000000</td>\n",
       "    </tr>\n",
       "    <tr>\n",
       "      <th>srch_adults_cnt</th>\n",
       "      <td>0</td>\n",
       "      <td>0.000000</td>\n",
       "    </tr>\n",
       "    <tr>\n",
       "      <th>srch_children_cnt</th>\n",
       "      <td>0</td>\n",
       "      <td>0.000000</td>\n",
       "    </tr>\n",
       "    <tr>\n",
       "      <th>srch_rm_cnt</th>\n",
       "      <td>0</td>\n",
       "      <td>0.000000</td>\n",
       "    </tr>\n",
       "    <tr>\n",
       "      <th>srch_destination_id</th>\n",
       "      <td>0</td>\n",
       "      <td>0.000000</td>\n",
       "    </tr>\n",
       "    <tr>\n",
       "      <th>srch_destination_type_id</th>\n",
       "      <td>0</td>\n",
       "      <td>0.000000</td>\n",
       "    </tr>\n",
       "    <tr>\n",
       "      <th>is_booking</th>\n",
       "      <td>0</td>\n",
       "      <td>0.000000</td>\n",
       "    </tr>\n",
       "    <tr>\n",
       "      <th>cnt</th>\n",
       "      <td>0</td>\n",
       "      <td>0.000000</td>\n",
       "    </tr>\n",
       "    <tr>\n",
       "      <th>hotel_continent</th>\n",
       "      <td>0</td>\n",
       "      <td>0.000000</td>\n",
       "    </tr>\n",
       "    <tr>\n",
       "      <th>hotel_country</th>\n",
       "      <td>0</td>\n",
       "      <td>0.000000</td>\n",
       "    </tr>\n",
       "    <tr>\n",
       "      <th>date_time</th>\n",
       "      <td>0</td>\n",
       "      <td>0.000000</td>\n",
       "    </tr>\n",
       "  </tbody>\n",
       "</table>\n",
       "</div>"
      ],
      "text/plain": [
       "                           Total   Percent\n",
       "orig_destination_distance  69637  0.348185\n",
       "srch_ci                      177  0.000885\n",
       "srch_co                      177  0.000885\n",
       "channel                        0  0.000000\n",
       "site_name                      0  0.000000\n",
       "posa_continent                 0  0.000000\n",
       "user_location_country          0  0.000000\n",
       "user_location_region           0  0.000000\n",
       "user_location_city             0  0.000000\n",
       "user_id                        0  0.000000\n",
       "is_mobile                      0  0.000000\n",
       "is_package                     0  0.000000\n",
       "hotel_cluster                  0  0.000000\n",
       "hotel_market                   0  0.000000\n",
       "srch_adults_cnt                0  0.000000\n",
       "srch_children_cnt              0  0.000000\n",
       "srch_rm_cnt                    0  0.000000\n",
       "srch_destination_id            0  0.000000\n",
       "srch_destination_type_id       0  0.000000\n",
       "is_booking                     0  0.000000\n",
       "cnt                            0  0.000000\n",
       "hotel_continent                0  0.000000\n",
       "hotel_country                  0  0.000000\n",
       "date_time                      0  0.000000"
      ]
     },
     "execution_count": 22,
     "metadata": {},
     "output_type": "execute_result"
    }
   ],
   "source": [
    "missing_data=pd.concat([total, percent], axis=1, keys=['Total', 'Percent'])\n",
    "missing_data"
   ]
  },
  {
   "cell_type": "code",
   "execution_count": 23,
   "metadata": {},
   "outputs": [
    {
     "data": {
      "text/html": [
       "<div>\n",
       "<style scoped>\n",
       "    .dataframe tbody tr th:only-of-type {\n",
       "        vertical-align: middle;\n",
       "    }\n",
       "\n",
       "    .dataframe tbody tr th {\n",
       "        vertical-align: top;\n",
       "    }\n",
       "\n",
       "    .dataframe thead th {\n",
       "        text-align: right;\n",
       "    }\n",
       "</style>\n",
       "<table border=\"1\" class=\"dataframe\">\n",
       "  <thead>\n",
       "    <tr style=\"text-align: right;\">\n",
       "      <th></th>\n",
       "      <th>Total</th>\n",
       "      <th>Percent</th>\n",
       "    </tr>\n",
       "  </thead>\n",
       "  <tbody>\n",
       "    <tr>\n",
       "      <th>orig_destination_distance</th>\n",
       "      <td>13371.0</td>\n",
       "      <td>0.348185</td>\n",
       "    </tr>\n",
       "    <tr>\n",
       "      <th>hotel_market</th>\n",
       "      <td>0.0</td>\n",
       "      <td>0.000000</td>\n",
       "    </tr>\n",
       "    <tr>\n",
       "      <th>hotel_country</th>\n",
       "      <td>0.0</td>\n",
       "      <td>0.000000</td>\n",
       "    </tr>\n",
       "    <tr>\n",
       "      <th>date_time</th>\n",
       "      <td>0.0</td>\n",
       "      <td>0.000000</td>\n",
       "    </tr>\n",
       "    <tr>\n",
       "      <th>site_name</th>\n",
       "      <td>0.0</td>\n",
       "      <td>0.000000</td>\n",
       "    </tr>\n",
       "    <tr>\n",
       "      <th>posa_continent</th>\n",
       "      <td>0.0</td>\n",
       "      <td>0.000000</td>\n",
       "    </tr>\n",
       "    <tr>\n",
       "      <th>user_location_country</th>\n",
       "      <td>0.0</td>\n",
       "      <td>0.000000</td>\n",
       "    </tr>\n",
       "    <tr>\n",
       "      <th>user_location_region</th>\n",
       "      <td>0.0</td>\n",
       "      <td>0.000000</td>\n",
       "    </tr>\n",
       "    <tr>\n",
       "      <th>user_location_city</th>\n",
       "      <td>0.0</td>\n",
       "      <td>0.000000</td>\n",
       "    </tr>\n",
       "    <tr>\n",
       "      <th>user_id</th>\n",
       "      <td>0.0</td>\n",
       "      <td>0.000000</td>\n",
       "    </tr>\n",
       "    <tr>\n",
       "      <th>is_mobile</th>\n",
       "      <td>0.0</td>\n",
       "      <td>0.000000</td>\n",
       "    </tr>\n",
       "    <tr>\n",
       "      <th>is_package</th>\n",
       "      <td>0.0</td>\n",
       "      <td>0.000000</td>\n",
       "    </tr>\n",
       "    <tr>\n",
       "      <th>channel</th>\n",
       "      <td>0.0</td>\n",
       "      <td>0.000000</td>\n",
       "    </tr>\n",
       "    <tr>\n",
       "      <th>srch_ci</th>\n",
       "      <td>0.0</td>\n",
       "      <td>0.000885</td>\n",
       "    </tr>\n",
       "    <tr>\n",
       "      <th>srch_co</th>\n",
       "      <td>0.0</td>\n",
       "      <td>0.000885</td>\n",
       "    </tr>\n",
       "    <tr>\n",
       "      <th>srch_adults_cnt</th>\n",
       "      <td>0.0</td>\n",
       "      <td>0.000000</td>\n",
       "    </tr>\n",
       "    <tr>\n",
       "      <th>srch_children_cnt</th>\n",
       "      <td>0.0</td>\n",
       "      <td>0.000000</td>\n",
       "    </tr>\n",
       "    <tr>\n",
       "      <th>srch_rm_cnt</th>\n",
       "      <td>0.0</td>\n",
       "      <td>0.000000</td>\n",
       "    </tr>\n",
       "    <tr>\n",
       "      <th>srch_destination_id</th>\n",
       "      <td>0.0</td>\n",
       "      <td>0.000000</td>\n",
       "    </tr>\n",
       "    <tr>\n",
       "      <th>srch_destination_type_id</th>\n",
       "      <td>0.0</td>\n",
       "      <td>0.000000</td>\n",
       "    </tr>\n",
       "    <tr>\n",
       "      <th>hotel_continent</th>\n",
       "      <td>0.0</td>\n",
       "      <td>0.000000</td>\n",
       "    </tr>\n",
       "    <tr>\n",
       "      <th>id</th>\n",
       "      <td>0.0</td>\n",
       "      <td>NaN</td>\n",
       "    </tr>\n",
       "    <tr>\n",
       "      <th>hotel_cluster</th>\n",
       "      <td>NaN</td>\n",
       "      <td>0.000000</td>\n",
       "    </tr>\n",
       "    <tr>\n",
       "      <th>is_booking</th>\n",
       "      <td>NaN</td>\n",
       "      <td>0.000000</td>\n",
       "    </tr>\n",
       "    <tr>\n",
       "      <th>cnt</th>\n",
       "      <td>NaN</td>\n",
       "      <td>0.000000</td>\n",
       "    </tr>\n",
       "  </tbody>\n",
       "</table>\n",
       "</div>"
      ],
      "text/plain": [
       "                             Total   Percent\n",
       "orig_destination_distance  13371.0  0.348185\n",
       "hotel_market                   0.0  0.000000\n",
       "hotel_country                  0.0  0.000000\n",
       "date_time                      0.0  0.000000\n",
       "site_name                      0.0  0.000000\n",
       "posa_continent                 0.0  0.000000\n",
       "user_location_country          0.0  0.000000\n",
       "user_location_region           0.0  0.000000\n",
       "user_location_city             0.0  0.000000\n",
       "user_id                        0.0  0.000000\n",
       "is_mobile                      0.0  0.000000\n",
       "is_package                     0.0  0.000000\n",
       "channel                        0.0  0.000000\n",
       "srch_ci                        0.0  0.000885\n",
       "srch_co                        0.0  0.000885\n",
       "srch_adults_cnt                0.0  0.000000\n",
       "srch_children_cnt              0.0  0.000000\n",
       "srch_rm_cnt                    0.0  0.000000\n",
       "srch_destination_id            0.0  0.000000\n",
       "srch_destination_type_id       0.0  0.000000\n",
       "hotel_continent                0.0  0.000000\n",
       "id                             0.0       NaN\n",
       "hotel_cluster                  NaN  0.000000\n",
       "is_booking                     NaN  0.000000\n",
       "cnt                            NaN  0.000000"
      ]
     },
     "execution_count": 23,
     "metadata": {},
     "output_type": "execute_result"
    }
   ],
   "source": [
    "# we do the same on \"test\" data\n",
    "\n",
    "total=test.isnull().sum().sort_values(ascending=False)\n",
    "percent=(train.isnull().sum()/train['hotel_cluster'].count()).sort_values(ascending=False)\n",
    "missing_data=pd.concat([total, percent], axis=1, keys=['Total', 'Percent'])\n",
    "missing_data"
   ]
  },
  {
   "cell_type": "code",
   "execution_count": 24,
   "metadata": {},
   "outputs": [],
   "source": [
    "# use mean to impute missing data for \"orig_destination_distance\"\n",
    "\n",
    "train['orig_destination_distance'].fillna(train['orig_destination_distance'].mean(), inplace=True)\n",
    "test['orig_destination_distance'].fillna(test['orig_destination_distance'].mean(), inplace=True)"
   ]
  },
  {
   "cell_type": "code",
   "execution_count": 25,
   "metadata": {},
   "outputs": [
    {
     "data": {
      "text/plain": [
       "date_time                      0\n",
       "site_name                      0\n",
       "posa_continent                 0\n",
       "user_location_country          0\n",
       "user_location_region           0\n",
       "user_location_city             0\n",
       "orig_destination_distance      0\n",
       "user_id                        0\n",
       "is_mobile                      0\n",
       "is_package                     0\n",
       "channel                        0\n",
       "srch_ci                      177\n",
       "srch_co                      177\n",
       "srch_adults_cnt                0\n",
       "srch_children_cnt              0\n",
       "srch_rm_cnt                    0\n",
       "srch_destination_id            0\n",
       "srch_destination_type_id       0\n",
       "is_booking                     0\n",
       "cnt                            0\n",
       "hotel_continent                0\n",
       "hotel_country                  0\n",
       "hotel_market                   0\n",
       "hotel_cluster                  0\n",
       "dtype: int64"
      ]
     },
     "execution_count": 25,
     "metadata": {},
     "output_type": "execute_result"
    }
   ],
   "source": [
    "train.isna().sum()"
   ]
  },
  {
   "cell_type": "code",
   "execution_count": 26,
   "metadata": {},
   "outputs": [],
   "source": [
    "# we drop other missing values\n",
    "train.dropna(inplace=True)\n",
    "test.dropna(inplace=True)"
   ]
  },
  {
   "cell_type": "code",
   "execution_count": 28,
   "metadata": {},
   "outputs": [
    {
     "data": {
      "text/plain": [
       "(199823, 24)"
      ]
     },
     "execution_count": 28,
     "metadata": {},
     "output_type": "execute_result"
    }
   ],
   "source": [
    "train.shape\n"
   ]
  },
  {
   "cell_type": "code",
   "execution_count": 29,
   "metadata": {},
   "outputs": [
    {
     "data": {
      "text/plain": [
       "(39999, 22)"
      ]
     },
     "execution_count": 29,
     "metadata": {},
     "output_type": "execute_result"
    }
   ],
   "source": [
    "test.shape"
   ]
  },
  {
   "cell_type": "markdown",
   "metadata": {},
   "source": [
    "## Visualization"
   ]
  },
  {
   "cell_type": "markdown",
   "metadata": {},
   "source": [
    "**A Heatmap to infer the correlation between different columns with each other and to check if there is any linear correlation between any columns.**"
   ]
  },
  {
   "cell_type": "code",
   "execution_count": 31,
   "metadata": {},
   "outputs": [
    {
     "data": {
      "text/plain": [
       "<AxesSubplot:>"
      ]
     },
     "execution_count": 31,
     "metadata": {},
     "output_type": "execute_result"
    },
    {
     "data": {
      "image/png": "[encoded data removed]",
      "text/plain": [
       "<Figure size 1080x720 with 2 Axes>"
      ]
     },
     "metadata": {
      "needs_background": "light"
     },
     "output_type": "display_data"
    }
   ],
   "source": [
    "fig, ax = plt.subplots()\n",
    "fig.set_size_inches(15, 10)\n",
    "sns.heatmap(train.corr(),cmap='coolwarm',ax=ax,annot=True,linewidths=2)"
   ]
  },
  {
   "cell_type": "markdown",
   "metadata": {},
   "source": [
    "**This tell us that no column correlate linearly with any other column in the dataset.**"
   ]
  },
  {
   "cell_type": "markdown",
   "metadata": {},
   "source": [
    "## Basic Visualization\n",
    "### 2. Frequency of bookings through mobile\n"
   ]
  },
  {
   "cell_type": "code",
   "execution_count": 33,
   "metadata": {},
   "outputs": [
    {
     "data": {
      "text/plain": [
       "<AxesSubplot:xlabel='is_mobile', ylabel='count'>"
      ]
     },
     "execution_count": 33,
     "metadata": {},
     "output_type": "execute_result"
    },
    {
     "data": {
      "image/png": "[encoded data removed]",
      "text/plain": [
       "<Figure size 936x576 with 1 Axes>"
      ]
     },
     "metadata": {
      "needs_background": "light"
     },
     "output_type": "display_data"
    }
   ],
   "source": [
    "fig, ax = plt.subplots()\n",
    "fig.set_size_inches(13, 8)\n",
    "sns.countplot(x='is_mobile',data=train, order=[0,1],ax=ax)"
   ]
  },
  {
   "cell_type": "markdown",
   "metadata": {},
   "source": [
    "Suggestion:**Customers book their hotels from Expedia Website rather than mobile. So we can suggest Expedia to make more interactive, easy to use website so customers can easily book their hotels**"
   ]
  },
  {
   "cell_type": "code",
   "execution_count": 34,
   "metadata": {},
   "outputs": [
    {
     "data": {
      "text/plain": [
       "<AxesSubplot:xlabel='is_package', ylabel='count'>"
      ]
     },
     "execution_count": 34,
     "metadata": {},
     "output_type": "execute_result"
    },
    {
     "data": {
      "image/png": "[encoded data removed]",
      "text/plain": [
       "<Figure size 936x576 with 1 Axes>"
      ]
     },
     "metadata": {
      "needs_background": "light"
     },
     "output_type": "display_data"
    }
   ],
   "source": [
    "fig, ax = plt.subplots()\n",
    "fig.set_size_inches(13, 8)\n",
    "sns.countplot(x='is_package',data=train, order=[0,1], ax=ax)"
   ]
  },
  {
   "cell_type": "markdown",
   "metadata": {},
   "source": [
    "**The number of customers booking their hotels with total package i.e with travel are less. We can interpret this that there can be many reasons of this like booking with travel is getting very expensive or less range of hotels where the customer wants to travel to.**"
   ]
  },
  {
   "cell_type": "markdown",
   "metadata": {},
   "source": [
    "### 4. Frequency of Continent site used for booking"
   ]
  },
  {
   "cell_type": "code",
   "execution_count": 50,
   "metadata": {},
   "outputs": [
    {
     "name": "stderr",
     "output_type": "stream",
     "text": [
      "/Users/arissa/opt/anaconda3/lib/python3.8/site-packages/seaborn/_decorators.py:36: FutureWarning: Pass the following variable as a keyword arg: x. From version 0.12, the only valid positional argument will be `data`, and passing other arguments without an explicit keyword will result in an error or misinterpretation.\n",
      "  warnings.warn(\n"
     ]
    },
    {
     "data": {
      "text/plain": [
       "<AxesSubplot:xlabel='posa_continent', ylabel='count'>"
      ]
     },
     "execution_count": 50,
     "metadata": {},
     "output_type": "execute_result"
    },
    {
     "data": {
      "image/png": "[encoded data removed]",
      "text/plain": [
       "<Figure size 936x576 with 1 Axes>"
      ]
     },
     "metadata": {
      "needs_background": "light"
     },
     "output_type": "display_data"
    }
   ],
   "source": [
    "fig, ax = plt.subplots()\n",
    "fig.set_size_inches(13, 8)\n",
    "sns.countplot('posa_continent', data=train,order=[0,1,2,3,4],ax=ax)"
   ]
  },
  {
   "cell_type": "markdown",
   "metadata": {},
   "source": [
    "**Most of people booking are from continent 3. Maybe people there have more expending power. So Expedia can increase its business by increasing more hotel options, more variety, better user experience, etc. For other continents Expedia can lower its prices on hotel or give discounts, loyalty points.**"
   ]
  },
  {
   "cell_type": "markdown",
   "metadata": {},
   "source": [
    "### 5. Which continent has the most number of hotels?"
   ]
  },
  {
   "cell_type": "code",
   "execution_count": 51,
   "metadata": {},
   "outputs": [
    {
     "name": "stderr",
     "output_type": "stream",
     "text": [
      "/Users/arissa/opt/anaconda3/lib/python3.8/site-packages/seaborn/_decorators.py:36: FutureWarning: Pass the following variable as a keyword arg: x. From version 0.12, the only valid positional argument will be `data`, and passing other arguments without an explicit keyword will result in an error or misinterpretation.\n",
      "  warnings.warn(\n"
     ]
    },
    {
     "data": {
      "text/plain": [
       "<AxesSubplot:xlabel='hotel_continent', ylabel='count'>"
      ]
     },
     "execution_count": 51,
     "metadata": {},
     "output_type": "execute_result"
    },
    {
     "data": {
      "image/png": "[encoded data removed]",
      "text/plain": [
       "<Figure size 936x576 with 1 Axes>"
      ]
     },
     "metadata": {
      "needs_background": "light"
     },
     "output_type": "display_data"
    }
   ],
   "source": [
    "fig, ax = plt.subplots()\n",
    "fig.set_size_inches(13, 8)\n",
    "sns.countplot('hotel_continent', data=train,order=[0,2,3,4,5,6],ax=ax)"
   ]
  },
  {
   "cell_type": "code",
   "execution_count": null,
   "metadata": {},
   "outputs": [],
   "source": [
    "### 6. Putting the two above together"
   ]
  },
  {
   "cell_type": "code",
   "execution_count": 52,
   "metadata": {},
   "outputs": [
    {
     "data": {
      "text/plain": [
       "<AxesSubplot:xlabel='hotel_continent', ylabel='count'>"
      ]
     },
     "execution_count": 52,
     "metadata": {},
     "output_type": "execute_result"
    },
    {
     "data": {
      "image/png": "[encoded data removed]",
      "text/plain": [
       "<Figure size 936x576 with 1 Axes>"
      ]
     },
     "metadata": {
      "needs_background": "light"
     },
     "output_type": "display_data"
    }
   ],
   "source": [
    "fig, ax = plt.subplots()\n",
    "fig.set_size_inches(13, 8)\n",
    "sns.countplot(x='hotel_continent', hue='posa_continent', data=train)"
   ]
  },
  {
   "cell_type": "markdown",
   "metadata": {},
   "source": [
    "## Let us look at data specifically where customers have made a booking"
   ]
  },
  {
   "cell_type": "code",
   "execution_count": 54,
   "metadata": {},
   "outputs": [
    {
     "data": {
      "text/html": [
       "<div>\n",
       "<style scoped>\n",
       "    .dataframe tbody tr th:only-of-type {\n",
       "        vertical-align: middle;\n",
       "    }\n",
       "\n",
       "    .dataframe tbody tr th {\n",
       "        vertical-align: top;\n",
       "    }\n",
       "\n",
       "    .dataframe thead th {\n",
       "        text-align: right;\n",
       "    }\n",
       "</style>\n",
       "<table border=\"1\" class=\"dataframe\">\n",
       "  <thead>\n",
       "    <tr style=\"text-align: right;\">\n",
       "      <th></th>\n",
       "      <th>date_time</th>\n",
       "      <th>site_name</th>\n",
       "      <th>posa_continent</th>\n",
       "      <th>user_location_country</th>\n",
       "      <th>user_location_region</th>\n",
       "      <th>user_location_city</th>\n",
       "      <th>orig_destination_distance</th>\n",
       "      <th>user_id</th>\n",
       "      <th>is_mobile</th>\n",
       "      <th>is_package</th>\n",
       "      <th>...</th>\n",
       "      <th>srch_children_cnt</th>\n",
       "      <th>srch_rm_cnt</th>\n",
       "      <th>srch_destination_id</th>\n",
       "      <th>srch_destination_type_id</th>\n",
       "      <th>is_booking</th>\n",
       "      <th>cnt</th>\n",
       "      <th>hotel_continent</th>\n",
       "      <th>hotel_country</th>\n",
       "      <th>hotel_market</th>\n",
       "      <th>hotel_cluster</th>\n",
       "    </tr>\n",
       "  </thead>\n",
       "  <tbody>\n",
       "    <tr>\n",
       "      <th>1</th>\n",
       "      <td>2014-08-11 08:22:12</td>\n",
       "      <td>2</td>\n",
       "      <td>3</td>\n",
       "      <td>66</td>\n",
       "      <td>348</td>\n",
       "      <td>48862</td>\n",
       "      <td>2234.264100</td>\n",
       "      <td>12</td>\n",
       "      <td>0</td>\n",
       "      <td>1</td>\n",
       "      <td>...</td>\n",
       "      <td>0</td>\n",
       "      <td>1</td>\n",
       "      <td>8250</td>\n",
       "      <td>1</td>\n",
       "      <td>1</td>\n",
       "      <td>1</td>\n",
       "      <td>2</td>\n",
       "      <td>50</td>\n",
       "      <td>628</td>\n",
       "      <td>1</td>\n",
       "    </tr>\n",
       "    <tr>\n",
       "      <th>20</th>\n",
       "      <td>2014-02-27 18:01:32</td>\n",
       "      <td>2</td>\n",
       "      <td>3</td>\n",
       "      <td>66</td>\n",
       "      <td>318</td>\n",
       "      <td>52078</td>\n",
       "      <td>1953.335631</td>\n",
       "      <td>756</td>\n",
       "      <td>0</td>\n",
       "      <td>1</td>\n",
       "      <td>...</td>\n",
       "      <td>0</td>\n",
       "      <td>1</td>\n",
       "      <td>8291</td>\n",
       "      <td>1</td>\n",
       "      <td>1</td>\n",
       "      <td>1</td>\n",
       "      <td>2</td>\n",
       "      <td>50</td>\n",
       "      <td>191</td>\n",
       "      <td>2</td>\n",
       "    </tr>\n",
       "    <tr>\n",
       "      <th>27</th>\n",
       "      <td>2013-06-15 15:38:05</td>\n",
       "      <td>30</td>\n",
       "      <td>4</td>\n",
       "      <td>195</td>\n",
       "      <td>548</td>\n",
       "      <td>56440</td>\n",
       "      <td>1953.335631</td>\n",
       "      <td>1048</td>\n",
       "      <td>0</td>\n",
       "      <td>1</td>\n",
       "      <td>...</td>\n",
       "      <td>0</td>\n",
       "      <td>1</td>\n",
       "      <td>1385</td>\n",
       "      <td>1</td>\n",
       "      <td>1</td>\n",
       "      <td>1</td>\n",
       "      <td>0</td>\n",
       "      <td>185</td>\n",
       "      <td>185</td>\n",
       "      <td>58</td>\n",
       "    </tr>\n",
       "    <tr>\n",
       "      <th>72</th>\n",
       "      <td>2014-11-23 18:02:20</td>\n",
       "      <td>30</td>\n",
       "      <td>4</td>\n",
       "      <td>195</td>\n",
       "      <td>991</td>\n",
       "      <td>47725</td>\n",
       "      <td>1953.335631</td>\n",
       "      <td>1048</td>\n",
       "      <td>0</td>\n",
       "      <td>0</td>\n",
       "      <td>...</td>\n",
       "      <td>0</td>\n",
       "      <td>1</td>\n",
       "      <td>8803</td>\n",
       "      <td>1</td>\n",
       "      <td>1</td>\n",
       "      <td>1</td>\n",
       "      <td>3</td>\n",
       "      <td>151</td>\n",
       "      <td>69</td>\n",
       "      <td>36</td>\n",
       "    </tr>\n",
       "    <tr>\n",
       "      <th>79</th>\n",
       "      <td>2014-01-03 16:30:17</td>\n",
       "      <td>2</td>\n",
       "      <td>3</td>\n",
       "      <td>66</td>\n",
       "      <td>462</td>\n",
       "      <td>41898</td>\n",
       "      <td>2454.858800</td>\n",
       "      <td>1482</td>\n",
       "      <td>0</td>\n",
       "      <td>1</td>\n",
       "      <td>...</td>\n",
       "      <td>0</td>\n",
       "      <td>2</td>\n",
       "      <td>12009</td>\n",
       "      <td>1</td>\n",
       "      <td>1</td>\n",
       "      <td>1</td>\n",
       "      <td>2</td>\n",
       "      <td>50</td>\n",
       "      <td>680</td>\n",
       "      <td>95</td>\n",
       "    </tr>\n",
       "    <tr>\n",
       "      <th>...</th>\n",
       "      <td>...</td>\n",
       "      <td>...</td>\n",
       "      <td>...</td>\n",
       "      <td>...</td>\n",
       "      <td>...</td>\n",
       "      <td>...</td>\n",
       "      <td>...</td>\n",
       "      <td>...</td>\n",
       "      <td>...</td>\n",
       "      <td>...</td>\n",
       "      <td>...</td>\n",
       "      <td>...</td>\n",
       "      <td>...</td>\n",
       "      <td>...</td>\n",
       "      <td>...</td>\n",
       "      <td>...</td>\n",
       "      <td>...</td>\n",
       "      <td>...</td>\n",
       "      <td>...</td>\n",
       "      <td>...</td>\n",
       "      <td>...</td>\n",
       "    </tr>\n",
       "    <tr>\n",
       "      <th>199961</th>\n",
       "      <td>2014-06-08 18:16:57</td>\n",
       "      <td>2</td>\n",
       "      <td>3</td>\n",
       "      <td>66</td>\n",
       "      <td>363</td>\n",
       "      <td>12346</td>\n",
       "      <td>285.085400</td>\n",
       "      <td>739952</td>\n",
       "      <td>0</td>\n",
       "      <td>0</td>\n",
       "      <td>...</td>\n",
       "      <td>0</td>\n",
       "      <td>1</td>\n",
       "      <td>40161</td>\n",
       "      <td>3</td>\n",
       "      <td>1</td>\n",
       "      <td>1</td>\n",
       "      <td>2</td>\n",
       "      <td>50</td>\n",
       "      <td>1378</td>\n",
       "      <td>15</td>\n",
       "    </tr>\n",
       "    <tr>\n",
       "      <th>199965</th>\n",
       "      <td>2014-11-11 13:43:09</td>\n",
       "      <td>2</td>\n",
       "      <td>3</td>\n",
       "      <td>66</td>\n",
       "      <td>363</td>\n",
       "      <td>10969</td>\n",
       "      <td>1953.335631</td>\n",
       "      <td>739952</td>\n",
       "      <td>1</td>\n",
       "      <td>0</td>\n",
       "      <td>...</td>\n",
       "      <td>0</td>\n",
       "      <td>1</td>\n",
       "      <td>40161</td>\n",
       "      <td>3</td>\n",
       "      <td>1</td>\n",
       "      <td>1</td>\n",
       "      <td>2</td>\n",
       "      <td>50</td>\n",
       "      <td>1378</td>\n",
       "      <td>15</td>\n",
       "    </tr>\n",
       "    <tr>\n",
       "      <th>199970</th>\n",
       "      <td>2014-05-06 09:47:24</td>\n",
       "      <td>2</td>\n",
       "      <td>3</td>\n",
       "      <td>230</td>\n",
       "      <td>395</td>\n",
       "      <td>36062</td>\n",
       "      <td>1953.335631</td>\n",
       "      <td>739972</td>\n",
       "      <td>0</td>\n",
       "      <td>0</td>\n",
       "      <td>...</td>\n",
       "      <td>0</td>\n",
       "      <td>1</td>\n",
       "      <td>25702</td>\n",
       "      <td>6</td>\n",
       "      <td>1</td>\n",
       "      <td>1</td>\n",
       "      <td>2</td>\n",
       "      <td>50</td>\n",
       "      <td>688</td>\n",
       "      <td>37</td>\n",
       "    </tr>\n",
       "    <tr>\n",
       "      <th>199984</th>\n",
       "      <td>2014-05-15 10:16:43</td>\n",
       "      <td>2</td>\n",
       "      <td>3</td>\n",
       "      <td>230</td>\n",
       "      <td>395</td>\n",
       "      <td>36062</td>\n",
       "      <td>1953.335631</td>\n",
       "      <td>739972</td>\n",
       "      <td>0</td>\n",
       "      <td>0</td>\n",
       "      <td>...</td>\n",
       "      <td>0</td>\n",
       "      <td>1</td>\n",
       "      <td>8829</td>\n",
       "      <td>1</td>\n",
       "      <td>1</td>\n",
       "      <td>1</td>\n",
       "      <td>2</td>\n",
       "      <td>50</td>\n",
       "      <td>693</td>\n",
       "      <td>55</td>\n",
       "    </tr>\n",
       "    <tr>\n",
       "      <th>199996</th>\n",
       "      <td>2013-03-06 19:04:49</td>\n",
       "      <td>40</td>\n",
       "      <td>3</td>\n",
       "      <td>66</td>\n",
       "      <td>467</td>\n",
       "      <td>18259</td>\n",
       "      <td>1360.129400</td>\n",
       "      <td>740408</td>\n",
       "      <td>0</td>\n",
       "      <td>0</td>\n",
       "      <td>...</td>\n",
       "      <td>0</td>\n",
       "      <td>1</td>\n",
       "      <td>8881</td>\n",
       "      <td>6</td>\n",
       "      <td>1</td>\n",
       "      <td>1</td>\n",
       "      <td>2</td>\n",
       "      <td>50</td>\n",
       "      <td>1633</td>\n",
       "      <td>13</td>\n",
       "    </tr>\n",
       "  </tbody>\n",
       "</table>\n",
       "<p>16669 rows × 24 columns</p>\n",
       "</div>"
      ],
      "text/plain": [
       "                 date_time  site_name  posa_continent  user_location_country  \\\n",
       "1      2014-08-11 08:22:12          2               3                     66   \n",
       "20     2014-02-27 18:01:32          2               3                     66   \n",
       "27     2013-06-15 15:38:05         30               4                    195   \n",
       "72     2014-11-23 18:02:20         30               4                    195   \n",
       "79     2014-01-03 16:30:17          2               3                     66   \n",
       "...                    ...        ...             ...                    ...   \n",
       "199961 2014-06-08 18:16:57          2               3                     66   \n",
       "199965 2014-11-11 13:43:09          2               3                     66   \n",
       "199970 2014-05-06 09:47:24          2               3                    230   \n",
       "199984 2014-05-15 10:16:43          2               3                    230   \n",
       "199996 2013-03-06 19:04:49         40               3                     66   \n",
       "\n",
       "        user_location_region  user_location_city  orig_destination_distance  \\\n",
       "1                        348               48862                2234.264100   \n",
       "20                       318               52078                1953.335631   \n",
       "27                       548               56440                1953.335631   \n",
       "72                       991               47725                1953.335631   \n",
       "79                       462               41898                2454.858800   \n",
       "...                      ...                 ...                        ...   \n",
       "199961                   363               12346                 285.085400   \n",
       "199965                   363               10969                1953.335631   \n",
       "199970                   395               36062                1953.335631   \n",
       "199984                   395               36062                1953.335631   \n",
       "199996                   467               18259                1360.129400   \n",
       "\n",
       "        user_id  is_mobile  is_package  ...  srch_children_cnt srch_rm_cnt  \\\n",
       "1            12          0           1  ...                  0           1   \n",
       "20          756          0           1  ...                  0           1   \n",
       "27         1048          0           1  ...                  0           1   \n",
       "72         1048          0           0  ...                  0           1   \n",
       "79         1482          0           1  ...                  0           2   \n",
       "...         ...        ...         ...  ...                ...         ...   \n",
       "199961   739952          0           0  ...                  0           1   \n",
       "199965   739952          1           0  ...                  0           1   \n",
       "199970   739972          0           0  ...                  0           1   \n",
       "199984   739972          0           0  ...                  0           1   \n",
       "199996   740408          0           0  ...                  0           1   \n",
       "\n",
       "       srch_destination_id  srch_destination_type_id  is_booking  cnt  \\\n",
       "1                     8250                         1           1    1   \n",
       "20                    8291                         1           1    1   \n",
       "27                    1385                         1           1    1   \n",
       "72                    8803                         1           1    1   \n",
       "79                   12009                         1           1    1   \n",
       "...                    ...                       ...         ...  ...   \n",
       "199961               40161                         3           1    1   \n",
       "199965               40161                         3           1    1   \n",
       "199970               25702                         6           1    1   \n",
       "199984                8829                         1           1    1   \n",
       "199996                8881                         6           1    1   \n",
       "\n",
       "        hotel_continent  hotel_country  hotel_market  hotel_cluster  \n",
       "1                     2             50           628              1  \n",
       "20                    2             50           191              2  \n",
       "27                    0            185           185             58  \n",
       "72                    3            151            69             36  \n",
       "79                    2             50           680             95  \n",
       "...                 ...            ...           ...            ...  \n",
       "199961                2             50          1378             15  \n",
       "199965                2             50          1378             15  \n",
       "199970                2             50           688             37  \n",
       "199984                2             50           693             55  \n",
       "199996                2             50          1633             13  \n",
       "\n",
       "[16669 rows x 24 columns]"
      ]
     },
     "execution_count": 54,
     "metadata": {},
     "output_type": "execute_result"
    }
   ],
   "source": [
    "bookings=train[train[\"is_booking\"] == 1]\n",
    "bookings"
   ]
  },
  {
   "cell_type": "markdown",
   "metadata": {},
   "source": [
    "### 7. What are the most countries the customer travel from?"
   ]
  },
  {
   "cell_type": "code",
   "execution_count": 55,
   "metadata": {},
   "outputs": [
    {
     "name": "stderr",
     "output_type": "stream",
     "text": [
      "/Users/arissa/opt/anaconda3/lib/python3.8/site-packages/seaborn/_decorators.py:36: FutureWarning: Pass the following variable as a keyword arg: x. From version 0.12, the only valid positional argument will be `data`, and passing other arguments without an explicit keyword will result in an error or misinterpretation.\n",
      "  warnings.warn(\n"
     ]
    },
    {
     "data": {
      "text/plain": [
       "<AxesSubplot:xlabel='user_location_country', ylabel='count'>"
      ]
     },
     "execution_count": 55,
     "metadata": {},
     "output_type": "execute_result"
    },
    {
     "data": {
      "image/png": "[encoded data removed]",
      "text/plain": [
       "<Figure size 2160x576 with 1 Axes>"
      ]
     },
     "metadata": {
      "needs_background": "light"
     },
     "output_type": "display_data"
    }
   ],
   "source": [
    "fig, ax = plt.subplots()\n",
    "fig.set_size_inches(30,8)\n",
    "sns.countplot('user_location_country',data=bookings.sort_values(by=['user_location_country']))"
   ]
  },
  {
   "cell_type": "markdown",
   "metadata": {},
   "source": [
    "**If customers are travelling from 66th country the most, we can give an insight to Expedia to give discounts to regular and most frequent customers to boost the business and to see why other countries have so low bookings of hotels, is it beacuse of the price, less number of hotels, less facilities in a hotel.**"
   ]
  },
  {
   "cell_type": "code",
   "execution_count": 59,
   "metadata": {},
   "outputs": [],
   "source": [
    "# popular travel destination"
   ]
  },
  {
   "cell_type": "code",
   "execution_count": 60,
   "metadata": {},
   "outputs": [
    {
     "name": "stderr",
     "output_type": "stream",
     "text": [
      "/Users/arissa/opt/anaconda3/lib/python3.8/site-packages/seaborn/_decorators.py:36: FutureWarning: Pass the following variable as a keyword arg: x. From version 0.12, the only valid positional argument will be `data`, and passing other arguments without an explicit keyword will result in an error or misinterpretation.\n",
      "  warnings.warn(\n"
     ]
    },
    {
     "data": {
      "text/plain": [
       "<AxesSubplot:xlabel='hotel_country', ylabel='count'>"
      ]
     },
     "execution_count": 60,
     "metadata": {},
     "output_type": "execute_result"
    },
    {
     "data": {
      "image/png": "[encoded data removed]",
      "text/plain": [
       "<Figure size 2520x720 with 1 Axes>"
      ]
     },
     "metadata": {
      "needs_background": "light"
     },
     "output_type": "display_data"
    }
   ],
   "source": [
    "fig, ax = plt.subplots()\n",
    "fig.set_size_inches(35,10)\n",
    "sns.countplot('hotel_country',data=bookings.sort_values(by=['hotel_country']))"
   ]
  },
  {
   "cell_type": "markdown",
   "metadata": {},
   "source": [
    "**If customers are travelling to 50th country the most, we can give an insight to Expedia to give more recommendations of different hotel with different range of prices, with different facilities, with different locations i.e hotels in every region, every city of the 50th country.**"
   ]
  },
  {
   "cell_type": "markdown",
   "metadata": {},
   "source": [
    "### 9. How many people by continent are booking from mobile?"
   ]
  },
  {
   "cell_type": "code",
   "execution_count": 61,
   "metadata": {},
   "outputs": [
    {
     "data": {
      "text/plain": [
       "<AxesSubplot:xlabel='posa_continent', ylabel='count'>"
      ]
     },
     "execution_count": 61,
     "metadata": {},
     "output_type": "execute_result"
    },
    {
     "data": {
      "image/png": "[encoded data removed]",
      "text/plain": [
       "<Figure size 936x576 with 1 Axes>"
      ]
     },
     "metadata": {
      "needs_background": "light"
     },
     "output_type": "display_data"
    }
   ],
   "source": [
    "fig, ax = plt.subplots()\n",
    "fig.set_size_inches(13, 8)\n",
    "sns.countplot(x='posa_continent', hue='is_mobile', data = train)"
   ]
  },
  {
   "cell_type": "markdown",
   "metadata": {},
   "source": [
    "**This graph we can use to give an insight to Expedia that to improve desktop website interface and to make it more interactive, easy payment and website doesn't crash when lot of customer tries to book their ticket rather than on mobile interface** "
   ]
  },
  {
   "cell_type": "code",
   "execution_count": 62,
   "metadata": {},
   "outputs": [
    {
     "data": {
      "text/plain": [
       "<AxesSubplot:xlabel='user_location_country', ylabel='count'>"
      ]
     },
     "execution_count": 62,
     "metadata": {},
     "output_type": "execute_result"
    },
    {
     "data": {
      "image/png": "[encoded data removed]",
      "text/plain": [
       "<Figure size 2160x576 with 1 Axes>"
      ]
     },
     "metadata": {
      "needs_background": "light"
     },
     "output_type": "display_data"
    }
   ],
   "source": [
    "### 10. How many people by country are booking from mobile?\n",
    "fig, ax = plt.subplots()\n",
    "fig.set_size_inches(30, 8)\n",
    "sns.countplot(x='user_location_country', hue='is_mobile', data = train)"
   ]
  },
  {
   "cell_type": "code",
   "execution_count": 63,
   "metadata": {},
   "outputs": [
    {
     "data": {
      "text/plain": [
       "<AxesSubplot:>"
      ]
     },
     "execution_count": 63,
     "metadata": {},
     "output_type": "execute_result"
    },
    {
     "data": {
      "image/png": "[encoded data removed]",
      "text/plain": [
       "<Figure size 1440x576 with 1 Axes>"
      ]
     },
     "metadata": {
      "needs_background": "light"
     },
     "output_type": "display_data"
    }
   ],
   "source": [
    "bookings['hotel_cluster'].value_counts().plot(kind='bar',figsize=(20,8))"
   ]
  },
  {
   "cell_type": "markdown",
   "metadata": {},
   "source": [
    "Hotel cluster 91 is the most booked hotel"
   ]
  },
  {
   "cell_type": "markdown",
   "metadata": {},
   "source": [
    "### 12. What's the most impactful channel?"
   ]
  },
  {
   "cell_type": "code",
   "execution_count": 68,
   "metadata": {},
   "outputs": [
    {
     "data": {
      "text/plain": [
       "<AxesSubplot:xlabel='channel', ylabel='count'>"
      ]
     },
     "execution_count": 68,
     "metadata": {},
     "output_type": "execute_result"
    },
    {
     "data": {
      "image/png": "[encoded data removed]",
      "text/plain": [
       "<Figure size 1440x576 with 1 Axes>"
      ]
     },
     "metadata": {
      "needs_background": "light"
     },
     "output_type": "display_data"
    }
   ],
   "source": [
    "fig, ax = plt.subplots()\n",
    "fig.set_size_inches(20, 8)\n",
    "sns.countplot(x='channel',data=train)"
   ]
  },
  {
   "cell_type": "markdown",
   "metadata": {},
   "source": [
    "Marketing channel 9 is the most successful"
   ]
  },
  {
   "cell_type": "markdown",
   "metadata": {},
   "source": [
    "## Feature Engineering"
   ]
  },
  {
   "cell_type": "code",
   "execution_count": 69,
   "metadata": {},
   "outputs": [
    {
     "data": {
      "text/html": [
       "<div>\n",
       "<style scoped>\n",
       "    .dataframe tbody tr th:only-of-type {\n",
       "        vertical-align: middle;\n",
       "    }\n",
       "\n",
       "    .dataframe tbody tr th {\n",
       "        vertical-align: top;\n",
       "    }\n",
       "\n",
       "    .dataframe thead th {\n",
       "        text-align: right;\n",
       "    }\n",
       "</style>\n",
       "<table border=\"1\" class=\"dataframe\">\n",
       "  <thead>\n",
       "    <tr style=\"text-align: right;\">\n",
       "      <th></th>\n",
       "      <th>date_time</th>\n",
       "      <th>site_name</th>\n",
       "      <th>posa_continent</th>\n",
       "      <th>user_location_country</th>\n",
       "      <th>user_location_region</th>\n",
       "      <th>user_location_city</th>\n",
       "      <th>orig_destination_distance</th>\n",
       "      <th>user_id</th>\n",
       "      <th>is_mobile</th>\n",
       "      <th>is_package</th>\n",
       "      <th>...</th>\n",
       "      <th>srch_children_cnt</th>\n",
       "      <th>srch_rm_cnt</th>\n",
       "      <th>srch_destination_id</th>\n",
       "      <th>srch_destination_type_id</th>\n",
       "      <th>is_booking</th>\n",
       "      <th>cnt</th>\n",
       "      <th>hotel_continent</th>\n",
       "      <th>hotel_country</th>\n",
       "      <th>hotel_market</th>\n",
       "      <th>hotel_cluster</th>\n",
       "    </tr>\n",
       "  </thead>\n",
       "  <tbody>\n",
       "    <tr>\n",
       "      <th>0</th>\n",
       "      <td>2014-08-11 07:46:59</td>\n",
       "      <td>2</td>\n",
       "      <td>3</td>\n",
       "      <td>66</td>\n",
       "      <td>348</td>\n",
       "      <td>48862</td>\n",
       "      <td>2234.264100</td>\n",
       "      <td>12</td>\n",
       "      <td>0</td>\n",
       "      <td>1</td>\n",
       "      <td>...</td>\n",
       "      <td>0</td>\n",
       "      <td>1</td>\n",
       "      <td>8250</td>\n",
       "      <td>1</td>\n",
       "      <td>0</td>\n",
       "      <td>3</td>\n",
       "      <td>2</td>\n",
       "      <td>50</td>\n",
       "      <td>628</td>\n",
       "      <td>1</td>\n",
       "    </tr>\n",
       "    <tr>\n",
       "      <th>1</th>\n",
       "      <td>2014-08-11 08:22:12</td>\n",
       "      <td>2</td>\n",
       "      <td>3</td>\n",
       "      <td>66</td>\n",
       "      <td>348</td>\n",
       "      <td>48862</td>\n",
       "      <td>2234.264100</td>\n",
       "      <td>12</td>\n",
       "      <td>0</td>\n",
       "      <td>1</td>\n",
       "      <td>...</td>\n",
       "      <td>0</td>\n",
       "      <td>1</td>\n",
       "      <td>8250</td>\n",
       "      <td>1</td>\n",
       "      <td>1</td>\n",
       "      <td>1</td>\n",
       "      <td>2</td>\n",
       "      <td>50</td>\n",
       "      <td>628</td>\n",
       "      <td>1</td>\n",
       "    </tr>\n",
       "    <tr>\n",
       "      <th>2</th>\n",
       "      <td>2014-08-11 08:24:33</td>\n",
       "      <td>2</td>\n",
       "      <td>3</td>\n",
       "      <td>66</td>\n",
       "      <td>348</td>\n",
       "      <td>48862</td>\n",
       "      <td>2234.264100</td>\n",
       "      <td>12</td>\n",
       "      <td>0</td>\n",
       "      <td>0</td>\n",
       "      <td>...</td>\n",
       "      <td>0</td>\n",
       "      <td>1</td>\n",
       "      <td>8250</td>\n",
       "      <td>1</td>\n",
       "      <td>0</td>\n",
       "      <td>1</td>\n",
       "      <td>2</td>\n",
       "      <td>50</td>\n",
       "      <td>628</td>\n",
       "      <td>1</td>\n",
       "    </tr>\n",
       "    <tr>\n",
       "      <th>3</th>\n",
       "      <td>2014-08-09 18:05:16</td>\n",
       "      <td>2</td>\n",
       "      <td>3</td>\n",
       "      <td>66</td>\n",
       "      <td>442</td>\n",
       "      <td>35390</td>\n",
       "      <td>913.193200</td>\n",
       "      <td>93</td>\n",
       "      <td>0</td>\n",
       "      <td>0</td>\n",
       "      <td>...</td>\n",
       "      <td>0</td>\n",
       "      <td>1</td>\n",
       "      <td>14984</td>\n",
       "      <td>1</td>\n",
       "      <td>0</td>\n",
       "      <td>1</td>\n",
       "      <td>2</td>\n",
       "      <td>50</td>\n",
       "      <td>1457</td>\n",
       "      <td>80</td>\n",
       "    </tr>\n",
       "    <tr>\n",
       "      <th>4</th>\n",
       "      <td>2014-08-09 18:08:18</td>\n",
       "      <td>2</td>\n",
       "      <td>3</td>\n",
       "      <td>66</td>\n",
       "      <td>442</td>\n",
       "      <td>35390</td>\n",
       "      <td>913.625900</td>\n",
       "      <td>93</td>\n",
       "      <td>0</td>\n",
       "      <td>0</td>\n",
       "      <td>...</td>\n",
       "      <td>0</td>\n",
       "      <td>1</td>\n",
       "      <td>14984</td>\n",
       "      <td>1</td>\n",
       "      <td>0</td>\n",
       "      <td>1</td>\n",
       "      <td>2</td>\n",
       "      <td>50</td>\n",
       "      <td>1457</td>\n",
       "      <td>21</td>\n",
       "    </tr>\n",
       "    <tr>\n",
       "      <th>...</th>\n",
       "      <td>...</td>\n",
       "      <td>...</td>\n",
       "      <td>...</td>\n",
       "      <td>...</td>\n",
       "      <td>...</td>\n",
       "      <td>...</td>\n",
       "      <td>...</td>\n",
       "      <td>...</td>\n",
       "      <td>...</td>\n",
       "      <td>...</td>\n",
       "      <td>...</td>\n",
       "      <td>...</td>\n",
       "      <td>...</td>\n",
       "      <td>...</td>\n",
       "      <td>...</td>\n",
       "      <td>...</td>\n",
       "      <td>...</td>\n",
       "      <td>...</td>\n",
       "      <td>...</td>\n",
       "      <td>...</td>\n",
       "      <td>...</td>\n",
       "    </tr>\n",
       "    <tr>\n",
       "      <th>199995</th>\n",
       "      <td>2013-03-06 18:11:28</td>\n",
       "      <td>40</td>\n",
       "      <td>3</td>\n",
       "      <td>66</td>\n",
       "      <td>467</td>\n",
       "      <td>18259</td>\n",
       "      <td>1360.080900</td>\n",
       "      <td>740408</td>\n",
       "      <td>0</td>\n",
       "      <td>0</td>\n",
       "      <td>...</td>\n",
       "      <td>0</td>\n",
       "      <td>1</td>\n",
       "      <td>8881</td>\n",
       "      <td>6</td>\n",
       "      <td>0</td>\n",
       "      <td>4</td>\n",
       "      <td>2</td>\n",
       "      <td>50</td>\n",
       "      <td>1633</td>\n",
       "      <td>55</td>\n",
       "    </tr>\n",
       "    <tr>\n",
       "      <th>199996</th>\n",
       "      <td>2013-03-06 19:04:49</td>\n",
       "      <td>40</td>\n",
       "      <td>3</td>\n",
       "      <td>66</td>\n",
       "      <td>467</td>\n",
       "      <td>18259</td>\n",
       "      <td>1360.129400</td>\n",
       "      <td>740408</td>\n",
       "      <td>0</td>\n",
       "      <td>0</td>\n",
       "      <td>...</td>\n",
       "      <td>0</td>\n",
       "      <td>1</td>\n",
       "      <td>8881</td>\n",
       "      <td>6</td>\n",
       "      <td>1</td>\n",
       "      <td>1</td>\n",
       "      <td>2</td>\n",
       "      <td>50</td>\n",
       "      <td>1633</td>\n",
       "      <td>13</td>\n",
       "    </tr>\n",
       "    <tr>\n",
       "      <th>199997</th>\n",
       "      <td>2013-03-23 08:21:59</td>\n",
       "      <td>40</td>\n",
       "      <td>3</td>\n",
       "      <td>66</td>\n",
       "      <td>467</td>\n",
       "      <td>30406</td>\n",
       "      <td>1953.335631</td>\n",
       "      <td>740408</td>\n",
       "      <td>0</td>\n",
       "      <td>0</td>\n",
       "      <td>...</td>\n",
       "      <td>0</td>\n",
       "      <td>1</td>\n",
       "      <td>8261</td>\n",
       "      <td>1</td>\n",
       "      <td>0</td>\n",
       "      <td>9</td>\n",
       "      <td>2</td>\n",
       "      <td>50</td>\n",
       "      <td>646</td>\n",
       "      <td>48</td>\n",
       "    </tr>\n",
       "    <tr>\n",
       "      <th>199998</th>\n",
       "      <td>2013-03-23 08:39:41</td>\n",
       "      <td>40</td>\n",
       "      <td>3</td>\n",
       "      <td>66</td>\n",
       "      <td>467</td>\n",
       "      <td>30406</td>\n",
       "      <td>1953.335631</td>\n",
       "      <td>740408</td>\n",
       "      <td>0</td>\n",
       "      <td>0</td>\n",
       "      <td>...</td>\n",
       "      <td>0</td>\n",
       "      <td>1</td>\n",
       "      <td>8261</td>\n",
       "      <td>1</td>\n",
       "      <td>0</td>\n",
       "      <td>4</td>\n",
       "      <td>2</td>\n",
       "      <td>50</td>\n",
       "      <td>646</td>\n",
       "      <td>91</td>\n",
       "    </tr>\n",
       "    <tr>\n",
       "      <th>199999</th>\n",
       "      <td>2013-03-23 09:04:27</td>\n",
       "      <td>40</td>\n",
       "      <td>3</td>\n",
       "      <td>66</td>\n",
       "      <td>467</td>\n",
       "      <td>30406</td>\n",
       "      <td>1953.335631</td>\n",
       "      <td>740408</td>\n",
       "      <td>0</td>\n",
       "      <td>0</td>\n",
       "      <td>...</td>\n",
       "      <td>0</td>\n",
       "      <td>1</td>\n",
       "      <td>8261</td>\n",
       "      <td>1</td>\n",
       "      <td>0</td>\n",
       "      <td>4</td>\n",
       "      <td>2</td>\n",
       "      <td>50</td>\n",
       "      <td>646</td>\n",
       "      <td>94</td>\n",
       "    </tr>\n",
       "  </tbody>\n",
       "</table>\n",
       "<p>199823 rows × 24 columns</p>\n",
       "</div>"
      ],
      "text/plain": [
       "                 date_time  site_name  posa_continent  user_location_country  \\\n",
       "0      2014-08-11 07:46:59          2               3                     66   \n",
       "1      2014-08-11 08:22:12          2               3                     66   \n",
       "2      2014-08-11 08:24:33          2               3                     66   \n",
       "3      2014-08-09 18:05:16          2               3                     66   \n",
       "4      2014-08-09 18:08:18          2               3                     66   \n",
       "...                    ...        ...             ...                    ...   \n",
       "199995 2013-03-06 18:11:28         40               3                     66   \n",
       "199996 2013-03-06 19:04:49         40               3                     66   \n",
       "199997 2013-03-23 08:21:59         40               3                     66   \n",
       "199998 2013-03-23 08:39:41         40               3                     66   \n",
       "199999 2013-03-23 09:04:27         40               3                     66   \n",
       "\n",
       "        user_location_region  user_location_city  orig_destination_distance  \\\n",
       "0                        348               48862                2234.264100   \n",
       "1                        348               48862                2234.264100   \n",
       "2                        348               48862                2234.264100   \n",
       "3                        442               35390                 913.193200   \n",
       "4                        442               35390                 913.625900   \n",
       "...                      ...                 ...                        ...   \n",
       "199995                   467               18259                1360.080900   \n",
       "199996                   467               18259                1360.129400   \n",
       "199997                   467               30406                1953.335631   \n",
       "199998                   467               30406                1953.335631   \n",
       "199999                   467               30406                1953.335631   \n",
       "\n",
       "        user_id  is_mobile  is_package  ...  srch_children_cnt srch_rm_cnt  \\\n",
       "0            12          0           1  ...                  0           1   \n",
       "1            12          0           1  ...                  0           1   \n",
       "2            12          0           0  ...                  0           1   \n",
       "3            93          0           0  ...                  0           1   \n",
       "4            93          0           0  ...                  0           1   \n",
       "...         ...        ...         ...  ...                ...         ...   \n",
       "199995   740408          0           0  ...                  0           1   \n",
       "199996   740408          0           0  ...                  0           1   \n",
       "199997   740408          0           0  ...                  0           1   \n",
       "199998   740408          0           0  ...                  0           1   \n",
       "199999   740408          0           0  ...                  0           1   \n",
       "\n",
       "       srch_destination_id  srch_destination_type_id  is_booking  cnt  \\\n",
       "0                     8250                         1           0    3   \n",
       "1                     8250                         1           1    1   \n",
       "2                     8250                         1           0    1   \n",
       "3                    14984                         1           0    1   \n",
       "4                    14984                         1           0    1   \n",
       "...                    ...                       ...         ...  ...   \n",
       "199995                8881                         6           0    4   \n",
       "199996                8881                         6           1    1   \n",
       "199997                8261                         1           0    9   \n",
       "199998                8261                         1           0    4   \n",
       "199999                8261                         1           0    4   \n",
       "\n",
       "        hotel_continent  hotel_country  hotel_market  hotel_cluster  \n",
       "0                     2             50           628              1  \n",
       "1                     2             50           628              1  \n",
       "2                     2             50           628              1  \n",
       "3                     2             50          1457             80  \n",
       "4                     2             50          1457             21  \n",
       "...                 ...            ...           ...            ...  \n",
       "199995                2             50          1633             55  \n",
       "199996                2             50          1633             13  \n",
       "199997                2             50           646             48  \n",
       "199998                2             50           646             91  \n",
       "199999                2             50           646             94  \n",
       "\n",
       "[199823 rows x 24 columns]"
      ]
     },
     "execution_count": 69,
     "metadata": {},
     "output_type": "execute_result"
    }
   ],
   "source": [
    "train"
   ]
  },
  {
   "cell_type": "markdown",
   "metadata": {},
   "source": [
    "**We can find out the duration of stay of the customers by subtracting the date of check-in to check-out to help Expedia to categorize the hotels like \"Long Trips\" where customers book their hotels for long period of time or \"Short Trips\" where customers book their hotels for short period of time. This could help to recommend other customers when those customers choose the same search parameters like \"Long Trips\" and \"Short Trips\".**\n",
    "\n",
    "**Moreover if we seprate day, month and year it can also help us to find the business of Expedia over the years i.e customers booking in which year, month or day the most.**"
   ]
  },
  {
   "cell_type": "markdown",
   "metadata": {},
   "source": [
    "## Feature Engineering"
   ]
  },
  {
   "cell_type": "code",
   "execution_count": 72,
   "metadata": {},
   "outputs": [],
   "source": [
    "def convert_date_into_days(df):\n",
    "    df['srch_ci']=pd.to_datetime(df['srch_ci'])\n",
    "    df['srch_co']=pd.to_datetime(df['srch_co'])\n",
    "    \n",
    "    df['stay_duration'] = (df['srch_co'] - df['srch_ci']).astype('timedelta64[D]')\n",
    "    df['no_of_prior_days_booking'] = (df['srch_ci'] - df['date_time']).astype('timedelta64[D]')\n",
    "    \n",
    "    \n",
    "    #     For hotel check-in\n",
    "#     Month, Year, Day\n",
    "    df['Cin_day'] = df[\"srch_ci\"].dt.day\n",
    "    df['Cin_month'] = df[\"srch_ci\"].dt.month\n",
    "    df['Cin_year'] = df[\"srch_ci\"].dt.year\n",
    "    return df"
   ]
  },
  {
   "cell_type": "code",
   "execution_count": 73,
   "metadata": {},
   "outputs": [],
   "source": [
    "train = convert_date_into_days(train)"
   ]
  },
  {
   "cell_type": "code",
   "execution_count": 74,
   "metadata": {},
   "outputs": [
    {
     "name": "stdout",
     "output_type": "stream",
     "text": [
      "<class 'pandas.core.frame.DataFrame'>\n",
      "Int64Index: 199823 entries, 0 to 199999\n",
      "Data columns (total 29 columns):\n",
      " #   Column                     Non-Null Count   Dtype         \n",
      "---  ------                     --------------   -----         \n",
      " 0   date_time                  199823 non-null  datetime64[ns]\n",
      " 1   site_name                  199823 non-null  int64         \n",
      " 2   posa_continent             199823 non-null  int64         \n",
      " 3   user_location_country      199823 non-null  int64         \n",
      " 4   user_location_region       199823 non-null  int64         \n",
      " 5   user_location_city         199823 non-null  int64         \n",
      " 6   orig_destination_distance  199823 non-null  float64       \n",
      " 7   user_id                    199823 non-null  int64         \n",
      " 8   is_mobile                  199823 non-null  int64         \n",
      " 9   is_package                 199823 non-null  int64         \n",
      " 10  channel                    199823 non-null  int64         \n",
      " 11  srch_ci                    199823 non-null  datetime64[ns]\n",
      " 12  srch_co                    199823 non-null  datetime64[ns]\n",
      " 13  srch_adults_cnt            199823 non-null  int64         \n",
      " 14  srch_children_cnt          199823 non-null  int64         \n",
      " 15  srch_rm_cnt                199823 non-null  int64         \n",
      " 16  srch_destination_id        199823 non-null  int64         \n",
      " 17  srch_destination_type_id   199823 non-null  int64         \n",
      " 18  is_booking                 199823 non-null  int64         \n",
      " 19  cnt                        199823 non-null  int64         \n",
      " 20  hotel_continent            199823 non-null  int64         \n",
      " 21  hotel_country              199823 non-null  int64         \n",
      " 22  hotel_market               199823 non-null  int64         \n",
      " 23  hotel_cluster              199823 non-null  int64         \n",
      " 24  stay_duration              199823 non-null  float64       \n",
      " 25  no_of_prior_days_booking   199823 non-null  float64       \n",
      " 26  Cin_day                    199823 non-null  int64         \n",
      " 27  Cin_month                  199823 non-null  int64         \n",
      " 28  Cin_year                   199823 non-null  int64         \n",
      "dtypes: datetime64[ns](3), float64(3), int64(23)\n",
      "memory usage: 50.7 MB\n"
     ]
    }
   ],
   "source": [
    "train.info()"
   ]
  },
  {
   "cell_type": "code",
   "execution_count": 75,
   "metadata": {},
   "outputs": [
    {
     "data": {
      "text/html": [
       "<div>\n",
       "<style scoped>\n",
       "    .dataframe tbody tr th:only-of-type {\n",
       "        vertical-align: middle;\n",
       "    }\n",
       "\n",
       "    .dataframe tbody tr th {\n",
       "        vertical-align: top;\n",
       "    }\n",
       "\n",
       "    .dataframe thead th {\n",
       "        text-align: right;\n",
       "    }\n",
       "</style>\n",
       "<table border=\"1\" class=\"dataframe\">\n",
       "  <thead>\n",
       "    <tr style=\"text-align: right;\">\n",
       "      <th></th>\n",
       "      <th>date_time</th>\n",
       "      <th>site_name</th>\n",
       "      <th>posa_continent</th>\n",
       "      <th>user_location_country</th>\n",
       "      <th>user_location_region</th>\n",
       "      <th>user_location_city</th>\n",
       "      <th>orig_destination_distance</th>\n",
       "      <th>user_id</th>\n",
       "      <th>is_mobile</th>\n",
       "      <th>is_package</th>\n",
       "      <th>...</th>\n",
       "      <th>cnt</th>\n",
       "      <th>hotel_continent</th>\n",
       "      <th>hotel_country</th>\n",
       "      <th>hotel_market</th>\n",
       "      <th>hotel_cluster</th>\n",
       "      <th>stay_duration</th>\n",
       "      <th>no_of_prior_days_booking</th>\n",
       "      <th>Cin_day</th>\n",
       "      <th>Cin_month</th>\n",
       "      <th>Cin_year</th>\n",
       "    </tr>\n",
       "  </thead>\n",
       "  <tbody>\n",
       "    <tr>\n",
       "      <th>0</th>\n",
       "      <td>2014-08-11 07:46:59</td>\n",
       "      <td>2</td>\n",
       "      <td>3</td>\n",
       "      <td>66</td>\n",
       "      <td>348</td>\n",
       "      <td>48862</td>\n",
       "      <td>2234.264100</td>\n",
       "      <td>12</td>\n",
       "      <td>0</td>\n",
       "      <td>1</td>\n",
       "      <td>...</td>\n",
       "      <td>3</td>\n",
       "      <td>2</td>\n",
       "      <td>50</td>\n",
       "      <td>628</td>\n",
       "      <td>1</td>\n",
       "      <td>4.0</td>\n",
       "      <td>15.0</td>\n",
       "      <td>27</td>\n",
       "      <td>8</td>\n",
       "      <td>2014</td>\n",
       "    </tr>\n",
       "    <tr>\n",
       "      <th>1</th>\n",
       "      <td>2014-08-11 08:22:12</td>\n",
       "      <td>2</td>\n",
       "      <td>3</td>\n",
       "      <td>66</td>\n",
       "      <td>348</td>\n",
       "      <td>48862</td>\n",
       "      <td>2234.264100</td>\n",
       "      <td>12</td>\n",
       "      <td>0</td>\n",
       "      <td>1</td>\n",
       "      <td>...</td>\n",
       "      <td>1</td>\n",
       "      <td>2</td>\n",
       "      <td>50</td>\n",
       "      <td>628</td>\n",
       "      <td>1</td>\n",
       "      <td>4.0</td>\n",
       "      <td>17.0</td>\n",
       "      <td>29</td>\n",
       "      <td>8</td>\n",
       "      <td>2014</td>\n",
       "    </tr>\n",
       "    <tr>\n",
       "      <th>2</th>\n",
       "      <td>2014-08-11 08:24:33</td>\n",
       "      <td>2</td>\n",
       "      <td>3</td>\n",
       "      <td>66</td>\n",
       "      <td>348</td>\n",
       "      <td>48862</td>\n",
       "      <td>2234.264100</td>\n",
       "      <td>12</td>\n",
       "      <td>0</td>\n",
       "      <td>0</td>\n",
       "      <td>...</td>\n",
       "      <td>1</td>\n",
       "      <td>2</td>\n",
       "      <td>50</td>\n",
       "      <td>628</td>\n",
       "      <td>1</td>\n",
       "      <td>4.0</td>\n",
       "      <td>17.0</td>\n",
       "      <td>29</td>\n",
       "      <td>8</td>\n",
       "      <td>2014</td>\n",
       "    </tr>\n",
       "    <tr>\n",
       "      <th>3</th>\n",
       "      <td>2014-08-09 18:05:16</td>\n",
       "      <td>2</td>\n",
       "      <td>3</td>\n",
       "      <td>66</td>\n",
       "      <td>442</td>\n",
       "      <td>35390</td>\n",
       "      <td>913.193200</td>\n",
       "      <td>93</td>\n",
       "      <td>0</td>\n",
       "      <td>0</td>\n",
       "      <td>...</td>\n",
       "      <td>1</td>\n",
       "      <td>2</td>\n",
       "      <td>50</td>\n",
       "      <td>1457</td>\n",
       "      <td>80</td>\n",
       "      <td>5.0</td>\n",
       "      <td>105.0</td>\n",
       "      <td>23</td>\n",
       "      <td>11</td>\n",
       "      <td>2014</td>\n",
       "    </tr>\n",
       "    <tr>\n",
       "      <th>4</th>\n",
       "      <td>2014-08-09 18:08:18</td>\n",
       "      <td>2</td>\n",
       "      <td>3</td>\n",
       "      <td>66</td>\n",
       "      <td>442</td>\n",
       "      <td>35390</td>\n",
       "      <td>913.625900</td>\n",
       "      <td>93</td>\n",
       "      <td>0</td>\n",
       "      <td>0</td>\n",
       "      <td>...</td>\n",
       "      <td>1</td>\n",
       "      <td>2</td>\n",
       "      <td>50</td>\n",
       "      <td>1457</td>\n",
       "      <td>21</td>\n",
       "      <td>5.0</td>\n",
       "      <td>105.0</td>\n",
       "      <td>23</td>\n",
       "      <td>11</td>\n",
       "      <td>2014</td>\n",
       "    </tr>\n",
       "    <tr>\n",
       "      <th>...</th>\n",
       "      <td>...</td>\n",
       "      <td>...</td>\n",
       "      <td>...</td>\n",
       "      <td>...</td>\n",
       "      <td>...</td>\n",
       "      <td>...</td>\n",
       "      <td>...</td>\n",
       "      <td>...</td>\n",
       "      <td>...</td>\n",
       "      <td>...</td>\n",
       "      <td>...</td>\n",
       "      <td>...</td>\n",
       "      <td>...</td>\n",
       "      <td>...</td>\n",
       "      <td>...</td>\n",
       "      <td>...</td>\n",
       "      <td>...</td>\n",
       "      <td>...</td>\n",
       "      <td>...</td>\n",
       "      <td>...</td>\n",
       "      <td>...</td>\n",
       "    </tr>\n",
       "    <tr>\n",
       "      <th>199995</th>\n",
       "      <td>2013-03-06 18:11:28</td>\n",
       "      <td>40</td>\n",
       "      <td>3</td>\n",
       "      <td>66</td>\n",
       "      <td>467</td>\n",
       "      <td>18259</td>\n",
       "      <td>1360.080900</td>\n",
       "      <td>740408</td>\n",
       "      <td>0</td>\n",
       "      <td>0</td>\n",
       "      <td>...</td>\n",
       "      <td>4</td>\n",
       "      <td>2</td>\n",
       "      <td>50</td>\n",
       "      <td>1633</td>\n",
       "      <td>55</td>\n",
       "      <td>1.0</td>\n",
       "      <td>45.0</td>\n",
       "      <td>21</td>\n",
       "      <td>4</td>\n",
       "      <td>2013</td>\n",
       "    </tr>\n",
       "    <tr>\n",
       "      <th>199996</th>\n",
       "      <td>2013-03-06 19:04:49</td>\n",
       "      <td>40</td>\n",
       "      <td>3</td>\n",
       "      <td>66</td>\n",
       "      <td>467</td>\n",
       "      <td>18259</td>\n",
       "      <td>1360.129400</td>\n",
       "      <td>740408</td>\n",
       "      <td>0</td>\n",
       "      <td>0</td>\n",
       "      <td>...</td>\n",
       "      <td>1</td>\n",
       "      <td>2</td>\n",
       "      <td>50</td>\n",
       "      <td>1633</td>\n",
       "      <td>13</td>\n",
       "      <td>1.0</td>\n",
       "      <td>45.0</td>\n",
       "      <td>21</td>\n",
       "      <td>4</td>\n",
       "      <td>2013</td>\n",
       "    </tr>\n",
       "    <tr>\n",
       "      <th>199997</th>\n",
       "      <td>2013-03-23 08:21:59</td>\n",
       "      <td>40</td>\n",
       "      <td>3</td>\n",
       "      <td>66</td>\n",
       "      <td>467</td>\n",
       "      <td>30406</td>\n",
       "      <td>1953.335631</td>\n",
       "      <td>740408</td>\n",
       "      <td>0</td>\n",
       "      <td>0</td>\n",
       "      <td>...</td>\n",
       "      <td>9</td>\n",
       "      <td>2</td>\n",
       "      <td>50</td>\n",
       "      <td>646</td>\n",
       "      <td>48</td>\n",
       "      <td>2.0</td>\n",
       "      <td>61.0</td>\n",
       "      <td>24</td>\n",
       "      <td>5</td>\n",
       "      <td>2013</td>\n",
       "    </tr>\n",
       "    <tr>\n",
       "      <th>199998</th>\n",
       "      <td>2013-03-23 08:39:41</td>\n",
       "      <td>40</td>\n",
       "      <td>3</td>\n",
       "      <td>66</td>\n",
       "      <td>467</td>\n",
       "      <td>30406</td>\n",
       "      <td>1953.335631</td>\n",
       "      <td>740408</td>\n",
       "      <td>0</td>\n",
       "      <td>0</td>\n",
       "      <td>...</td>\n",
       "      <td>4</td>\n",
       "      <td>2</td>\n",
       "      <td>50</td>\n",
       "      <td>646</td>\n",
       "      <td>91</td>\n",
       "      <td>2.0</td>\n",
       "      <td>61.0</td>\n",
       "      <td>24</td>\n",
       "      <td>5</td>\n",
       "      <td>2013</td>\n",
       "    </tr>\n",
       "    <tr>\n",
       "      <th>199999</th>\n",
       "      <td>2013-03-23 09:04:27</td>\n",
       "      <td>40</td>\n",
       "      <td>3</td>\n",
       "      <td>66</td>\n",
       "      <td>467</td>\n",
       "      <td>30406</td>\n",
       "      <td>1953.335631</td>\n",
       "      <td>740408</td>\n",
       "      <td>0</td>\n",
       "      <td>0</td>\n",
       "      <td>...</td>\n",
       "      <td>4</td>\n",
       "      <td>2</td>\n",
       "      <td>50</td>\n",
       "      <td>646</td>\n",
       "      <td>94</td>\n",
       "      <td>2.0</td>\n",
       "      <td>61.0</td>\n",
       "      <td>24</td>\n",
       "      <td>5</td>\n",
       "      <td>2013</td>\n",
       "    </tr>\n",
       "  </tbody>\n",
       "</table>\n",
       "<p>199823 rows × 29 columns</p>\n",
       "</div>"
      ],
      "text/plain": [
       "                 date_time  site_name  posa_continent  user_location_country  \\\n",
       "0      2014-08-11 07:46:59          2               3                     66   \n",
       "1      2014-08-11 08:22:12          2               3                     66   \n",
       "2      2014-08-11 08:24:33          2               3                     66   \n",
       "3      2014-08-09 18:05:16          2               3                     66   \n",
       "4      2014-08-09 18:08:18          2               3                     66   \n",
       "...                    ...        ...             ...                    ...   \n",
       "199995 2013-03-06 18:11:28         40               3                     66   \n",
       "199996 2013-03-06 19:04:49         40               3                     66   \n",
       "199997 2013-03-23 08:21:59         40               3                     66   \n",
       "199998 2013-03-23 08:39:41         40               3                     66   \n",
       "199999 2013-03-23 09:04:27         40               3                     66   \n",
       "\n",
       "        user_location_region  user_location_city  orig_destination_distance  \\\n",
       "0                        348               48862                2234.264100   \n",
       "1                        348               48862                2234.264100   \n",
       "2                        348               48862                2234.264100   \n",
       "3                        442               35390                 913.193200   \n",
       "4                        442               35390                 913.625900   \n",
       "...                      ...                 ...                        ...   \n",
       "199995                   467               18259                1360.080900   \n",
       "199996                   467               18259                1360.129400   \n",
       "199997                   467               30406                1953.335631   \n",
       "199998                   467               30406                1953.335631   \n",
       "199999                   467               30406                1953.335631   \n",
       "\n",
       "        user_id  is_mobile  is_package  ...  cnt hotel_continent  \\\n",
       "0            12          0           1  ...    3               2   \n",
       "1            12          0           1  ...    1               2   \n",
       "2            12          0           0  ...    1               2   \n",
       "3            93          0           0  ...    1               2   \n",
       "4            93          0           0  ...    1               2   \n",
       "...         ...        ...         ...  ...  ...             ...   \n",
       "199995   740408          0           0  ...    4               2   \n",
       "199996   740408          0           0  ...    1               2   \n",
       "199997   740408          0           0  ...    9               2   \n",
       "199998   740408          0           0  ...    4               2   \n",
       "199999   740408          0           0  ...    4               2   \n",
       "\n",
       "       hotel_country  hotel_market  hotel_cluster  stay_duration  \\\n",
       "0                 50           628              1            4.0   \n",
       "1                 50           628              1            4.0   \n",
       "2                 50           628              1            4.0   \n",
       "3                 50          1457             80            5.0   \n",
       "4                 50          1457             21            5.0   \n",
       "...              ...           ...            ...            ...   \n",
       "199995            50          1633             55            1.0   \n",
       "199996            50          1633             13            1.0   \n",
       "199997            50           646             48            2.0   \n",
       "199998            50           646             91            2.0   \n",
       "199999            50           646             94            2.0   \n",
       "\n",
       "        no_of_prior_days_booking  Cin_day  Cin_month  Cin_year  \n",
       "0                           15.0       27          8      2014  \n",
       "1                           17.0       29          8      2014  \n",
       "2                           17.0       29          8      2014  \n",
       "3                          105.0       23         11      2014  \n",
       "4                          105.0       23         11      2014  \n",
       "...                          ...      ...        ...       ...  \n",
       "199995                      45.0       21          4      2013  \n",
       "199996                      45.0       21          4      2013  \n",
       "199997                      61.0       24          5      2013  \n",
       "199998                      61.0       24          5      2013  \n",
       "199999                      61.0       24          5      2013  \n",
       "\n",
       "[199823 rows x 29 columns]"
      ]
     },
     "execution_count": 75,
     "metadata": {},
     "output_type": "execute_result"
    }
   ],
   "source": [
    "train"
   ]
  },
  {
   "cell_type": "markdown",
   "metadata": {},
   "source": [
    "### 13. How many bookings in each year?"
   ]
  },
  {
   "cell_type": "code",
   "execution_count": 77,
   "metadata": {},
   "outputs": [
    {
     "name": "stderr",
     "output_type": "stream",
     "text": [
      "/Users/arissa/opt/anaconda3/lib/python3.8/site-packages/seaborn/_decorators.py:36: FutureWarning: Pass the following variable as a keyword arg: x. From version 0.12, the only valid positional argument will be `data`, and passing other arguments without an explicit keyword will result in an error or misinterpretation.\n",
      "  warnings.warn(\n"
     ]
    },
    {
     "data": {
      "text/plain": [
       "<AxesSubplot:xlabel='Cin_year', ylabel='count'>"
      ]
     },
     "execution_count": 77,
     "metadata": {},
     "output_type": "execute_result"
    },
    {
     "data": {
      "image/png": "[encoded data removed]",
      "text/plain": [
       "<Figure size 1080x576 with 1 Axes>"
      ]
     },
     "metadata": {
      "needs_background": "light"
     },
     "output_type": "display_data"
    }
   ],
   "source": [
    "fig, ax = plt.subplots()\n",
    "fig.set_size_inches(15, 8)\n",
    "sns.countplot('Cin_year',data=train[train['is_booking']==1])"
   ]
  },
  {
   "cell_type": "markdown",
   "metadata": {},
   "source": [
    "**Bookings by customer in each year. This helps us to understand Expedia business i.e in 2013 was good, then during 2014 Expedia's business was at its peak then in 2015 Expedia's business was at its worst**"
   ]
  },
  {
   "cell_type": "code",
   "execution_count": 78,
   "metadata": {},
   "outputs": [],
   "source": [
    "### 14. How many bookings in each month?"
   ]
  },
  {
   "cell_type": "code",
   "execution_count": 79,
   "metadata": {},
   "outputs": [
    {
     "name": "stderr",
     "output_type": "stream",
     "text": [
      "/Users/arissa/opt/anaconda3/lib/python3.8/site-packages/seaborn/_decorators.py:36: FutureWarning: Pass the following variable as a keyword arg: x. From version 0.12, the only valid positional argument will be `data`, and passing other arguments without an explicit keyword will result in an error or misinterpretation.\n",
      "  warnings.warn(\n"
     ]
    },
    {
     "data": {
      "text/plain": [
       "<AxesSubplot:xlabel='Cin_month', ylabel='count'>"
      ]
     },
     "execution_count": 79,
     "metadata": {},
     "output_type": "execute_result"
    },
    {
     "data": {
      "image/png": "[encoded data removed]",
      "text/plain": [
       "<Figure size 1080x576 with 1 Axes>"
      ]
     },
     "metadata": {
      "needs_background": "light"
     },
     "output_type": "display_data"
    }
   ],
   "source": [
    "fig, ax = plt.subplots()\n",
    "fig.set_size_inches(15, 8)\n",
    "sns.countplot('Cin_month',data=train[train['is_booking']==1],order=list(range(1,13)))"
   ]
  },
  {
   "cell_type": "markdown",
   "metadata": {},
   "source": [
    "**This graph tells us about the customer behaviour that is when the customer are more likely to book their hotels and want to travel with their family.**\n",
    "\n",
    "**According to the graph we can deduce that during 8th month which is August, customers book hotels the most.** "
   ]
  },
  {
   "cell_type": "code",
   "execution_count": 80,
   "metadata": {},
   "outputs": [
    {
     "name": "stderr",
     "output_type": "stream",
     "text": [
      "/Users/arissa/opt/anaconda3/lib/python3.8/site-packages/seaborn/_decorators.py:36: FutureWarning: Pass the following variable as a keyword arg: x. From version 0.12, the only valid positional argument will be `data`, and passing other arguments without an explicit keyword will result in an error or misinterpretation.\n",
      "  warnings.warn(\n"
     ]
    },
    {
     "data": {
      "text/plain": [
       "<AxesSubplot:xlabel='Cin_day', ylabel='count'>"
      ]
     },
     "execution_count": 80,
     "metadata": {},
     "output_type": "execute_result"
    },
    {
     "data": {
      "image/png": "[encoded data removed]",
      "text/plain": [
       "<Figure size 1080x576 with 1 Axes>"
      ]
     },
     "metadata": {
      "needs_background": "light"
     },
     "output_type": "display_data"
    }
   ],
   "source": [
    "fig, ax = plt.subplots()\n",
    "fig.set_size_inches(15, 8)\n",
    "sns.countplot('Cin_day',data=train[train['is_booking']==1])"
   ]
  },
  {
   "cell_type": "markdown",
   "metadata": {},
   "source": [
    "**According to the graph we can deduce that on 1st day of any month customers are likely more to travel and book hotels.**\n",
    "\n",
    "**On 1st of each month customers get their salary and at that point they plan their trip**"
   ]
  },
  {
   "cell_type": "code",
   "execution_count": 81,
   "metadata": {},
   "outputs": [],
   "source": [
    "### 16. Total Booking over the years"
   ]
  },
  {
   "cell_type": "code",
   "execution_count": 96,
   "metadata": {},
   "outputs": [
    {
     "data": {
      "image/png": "[encoded data removed]",
      "text/plain": [
       "<Figure size 1080x576 with 1 Axes>"
      ]
     },
     "metadata": {
      "needs_background": "light"
     },
     "output_type": "display_data"
    }
   ],
   "source": [
    "number_of_booking=train['srch_ci'].apply(lambda x:str(x)[:7])\n",
    "date_bookings  = train.groupby(number_of_booking)[\"is_booking\"].sum()\n",
    "ax1 = date_bookings.plot(legend=True,marker='o',title=\"Total Bookings\", figsize=(15,8)) \n",
    "ax1.set_xticks(range(len(date_bookings)))\n",
    "xlabels = ax1.set_xticklabels(date_bookings.index.tolist(),rotation=90)"
   ]
  },
  {
   "cell_type": "markdown",
   "metadata": {},
   "source": [
    "**A clear graph to follow the Expedia Business over the years 2013,2014,2015 and 2016, its high points and its low point**"
   ]
  },
  {
   "cell_type": "markdown",
   "metadata": {},
   "source": [
    "### 17. Frequency of stay duration booked by customers"
   ]
  },
  {
   "cell_type": "code",
   "execution_count": 97,
   "metadata": {},
   "outputs": [
    {
     "data": {
      "text/plain": [
       "<AxesSubplot:xlabel='stay_duration', ylabel='count'>"
      ]
     },
     "execution_count": 97,
     "metadata": {},
     "output_type": "execute_result"
    },
    {
     "data": {
      "image/png": "[encoded data removed]",
      "text/plain": [
       "<Figure size 1800x1080 with 1 Axes>"
      ]
     },
     "metadata": {
      "needs_background": "light"
     },
     "output_type": "display_data"
    }
   ],
   "source": [
    "fig, ax = plt.subplots()\n",
    "fig.set_size_inches(25, 15)\n",
    "sns.countplot(x=\"stay_duration\", data=train)"
   ]
  },
  {
   "cell_type": "code",
   "execution_count": 98,
   "metadata": {},
   "outputs": [
    {
     "data": {
      "text/plain": [
       "190.0"
      ]
     },
     "execution_count": 98,
     "metadata": {},
     "output_type": "execute_result"
    }
   ],
   "source": [
    "train['stay_duration'].max()"
   ]
  },
  {
   "cell_type": "markdown",
   "metadata": {},
   "source": [
    "## Data Cleaning \n",
    "\n",
    "**Data cleaning is the process of cleaning / standardising the data to make it ready for analysis. Most of times, there will be discrepancies in the captured data such as incorrect data formats, missing data, errors while capturing the data.**"
   ]
  },
  {
   "cell_type": "code",
   "execution_count": 100,
   "metadata": {},
   "outputs": [
    {
     "data": {
      "text/plain": [
       "srch_destination_type_id    -0.032532\n",
       "hotel_country               -0.026294\n",
       "is_booking                  -0.025482\n",
       "user_location_country       -0.021887\n",
       "site_name                   -0.021180\n",
       "srch_destination_id         -0.012461\n",
       "hotel_continent             -0.008548\n",
       "srch_rm_cnt                 -0.007158\n",
       "user_id                     -0.001641\n",
       "Cin_day                     -0.000919\n",
       "channel                     -0.000509\n",
       "Cin_month                    0.000413\n",
       "user_location_city           0.000651\n",
       "is_mobile                    0.002645\n",
       "cnt                          0.004474\n",
       "srch_adults_cnt              0.006847\n",
       "user_location_region         0.007733\n",
       "Cin_year                     0.009051\n",
       "posa_continent               0.010042\n",
       "srch_children_cnt            0.011422\n",
       "orig_destination_distance    0.011877\n",
       "no_of_prior_days_booking     0.027411\n",
       "hotel_market                 0.032740\n",
       "stay_duration                0.043633\n",
       "is_package                   0.051934\n",
       "hotel_cluster                1.000000\n",
       "Name: hotel_cluster, dtype: float64"
      ]
     },
     "execution_count": 100,
     "metadata": {},
     "output_type": "execute_result"
    }
   ],
   "source": [
    "train.corr()[\"hotel_cluster\"].sort_values()"
   ]
  },
  {
   "cell_type": "markdown",
   "metadata": {},
   "source": [
    "This tell us that no column correlate linearly with hotel_cluster."
   ]
  },
  {
   "cell_type": "markdown",
   "metadata": {},
   "source": [
    "##Removing unnecessary columns**"
   ]
  },
  {
   "cell_type": "code",
   "execution_count": 102,
   "metadata": {},
   "outputs": [],
   "source": [
    "columns = ['date_time', 'srch_ci', 'srch_co']\n",
    "train.drop(columns=columns,axis=1,inplace=True)\n",
    "test.drop(columns=columns,axis=1,inplace=True)"
   ]
  },
  {
   "cell_type": "code",
   "execution_count": 106,
   "metadata": {},
   "outputs": [
    {
     "name": "stdout",
     "output_type": "stream",
     "text": [
      "<class 'pandas.core.frame.DataFrame'>\n",
      "Int64Index: 199823 entries, 0 to 199999\n",
      "Data columns (total 26 columns):\n",
      " #   Column                     Non-Null Count   Dtype  \n",
      "---  ------                     --------------   -----  \n",
      " 0   site_name                  199823 non-null  int64  \n",
      " 1   posa_continent             199823 non-null  int64  \n",
      " 2   user_location_country      199823 non-null  int64  \n",
      " 3   user_location_region       199823 non-null  int64  \n",
      " 4   user_location_city         199823 non-null  int64  \n",
      " 5   orig_destination_distance  199823 non-null  float64\n",
      " 6   user_id                    199823 non-null  int64  \n",
      " 7   is_mobile                  199823 non-null  int64  \n",
      " 8   is_package                 199823 non-null  int64  \n",
      " 9   channel                    199823 non-null  int64  \n",
      " 10  srch_adults_cnt            199823 non-null  int64  \n",
      " 11  srch_children_cnt          199823 non-null  int64  \n",
      " 12  srch_rm_cnt                199823 non-null  int64  \n",
      " 13  srch_destination_id        199823 non-null  int64  \n",
      " 14  srch_destination_type_id   199823 non-null  int64  \n",
      " 15  is_booking                 199823 non-null  int64  \n",
      " 16  cnt                        199823 non-null  int64  \n",
      " 17  hotel_continent            199823 non-null  int64  \n",
      " 18  hotel_country              199823 non-null  int64  \n",
      " 19  hotel_market               199823 non-null  int64  \n",
      " 20  hotel_cluster              199823 non-null  int64  \n",
      " 21  stay_duration              199823 non-null  float64\n",
      " 22  no_of_prior_days_booking   199823 non-null  float64\n",
      " 23  Cin_day                    199823 non-null  int64  \n",
      " 24  Cin_month                  199823 non-null  int64  \n",
      " 25  Cin_year                   199823 non-null  int64  \n",
      "dtypes: float64(3), int64(23)\n",
      "memory usage: 46.2 MB\n"
     ]
    }
   ],
   "source": [
    "train.info()"
   ]
  },
  {
   "cell_type": "code",
   "execution_count": 107,
   "metadata": {},
   "outputs": [
    {
     "name": "stdout",
     "output_type": "stream",
     "text": [
      "<class 'pandas.core.frame.DataFrame'>\n",
      "Int64Index: 39999 entries, 0 to 39998\n",
      "Data columns (total 19 columns):\n",
      " #   Column                     Non-Null Count  Dtype  \n",
      "---  ------                     --------------  -----  \n",
      " 0   id                         39999 non-null  int64  \n",
      " 1   site_name                  39999 non-null  int64  \n",
      " 2   posa_continent             39999 non-null  int64  \n",
      " 3   user_location_country      39999 non-null  int64  \n",
      " 4   user_location_region       39999 non-null  int64  \n",
      " 5   user_location_city         39999 non-null  int64  \n",
      " 6   orig_destination_distance  39999 non-null  float64\n",
      " 7   user_id                    39999 non-null  int64  \n",
      " 8   is_mobile                  39999 non-null  int64  \n",
      " 9   is_package                 39999 non-null  int64  \n",
      " 10  channel                    39999 non-null  int64  \n",
      " 11  srch_adults_cnt            39999 non-null  int64  \n",
      " 12  srch_children_cnt          39999 non-null  int64  \n",
      " 13  srch_rm_cnt                39999 non-null  int64  \n",
      " 14  srch_destination_id        39999 non-null  int64  \n",
      " 15  srch_destination_type_id   39999 non-null  int64  \n",
      " 16  hotel_continent            39999 non-null  int64  \n",
      " 17  hotel_country              39999 non-null  int64  \n",
      " 18  hotel_market               39999 non-null  int64  \n",
      "dtypes: float64(1), int64(18)\n",
      "memory usage: 6.1 MB\n"
     ]
    }
   ],
   "source": [
    "test.info()"
   ]
  },
  {
   "cell_type": "code",
   "execution_count": 108,
   "metadata": {},
   "outputs": [],
   "source": [
    "Y = train['hotel_cluster']\n",
    "X = train.drop(['hotel_cluster'],axis=1)"
   ]
  },
  {
   "cell_type": "markdown",
   "metadata": {},
   "source": [
    "## Dividing the train dataset into 2 parts\n",
    "\n",
    "1. Learning Dataset\n",
    "2. Test Dataset"
   ]
  },
  {
   "cell_type": "code",
   "execution_count": 111,
   "metadata": {},
   "outputs": [
    {
     "name": "stdout",
     "output_type": "stream",
     "text": [
      "169849\n",
      "29974\n"
     ]
    }
   ],
   "source": [
    "from sklearn.model_selection import train_test_split\n",
    "X_train, X_test, Y_train, Y_test = train_test_split(X, Y, test_size=0.15, random_state=1)\n",
    "print(len(X_train))\n",
    "print(len(X_test))"
   ]
  },
  {
   "cell_type": "markdown",
   "metadata": {},
   "source": [
    "## 1. First Algorithm - Random Forest\n",
    "\n",
    "---\n",
    "\n",
    "\n",
    "\n",
    "**Random forests or random decision forests are an ensemble learning method for classification, regression and other tasks that operate by constructing a multitude of decision trees at training time and outputting the class that is the mode of the classes or mean/average prediction of the individual trees.**"
   ]
  },
  {
   "cell_type": "code",
   "execution_count": 112,
   "metadata": {},
   "outputs": [
    {
     "name": "stdout",
     "output_type": "stream",
     "text": [
      "Train Accuracy: 91.19%\n",
      "Test Accuracy: 33.09%\n"
     ]
    }
   ],
   "source": [
    "from sklearn.ensemble import RandomForestClassifier\n",
    "from sklearn.metrics import accuracy_score\n",
    "\n",
    "\n",
    "#Training\n",
    "\n",
    "rf = RandomForestClassifier(n_estimators=80)\n",
    "rf.fit(X_train, Y_train)\n",
    "\n",
    "\n",
    "#Prediction\n",
    "\n",
    "rf_train_prediction = rf.predict(X_train)\n",
    "rf_test_prediction = rf.predict(X_test)\n",
    "\n",
    "#Accuracy\n",
    "\n",
    "train_accuracy = accuracy_score(Y_train,rf_train_prediction)\n",
    "test_accuracy = accuracy_score(Y_test,rf_test_prediction)\n",
    "rf_accuracy = test_accuracy\n",
    "\n",
    "\n",
    "#Print\n",
    "\n",
    "print(\"Train Accuracy: %.2f%%\" % (train_accuracy * 100.0))\n",
    "print(\"Test Accuracy: %.2f%%\" % (test_accuracy * 100.0))"
   ]
  },
  {
   "cell_type": "code",
   "execution_count": 115,
   "metadata": {},
   "outputs": [
    {
     "name": "stdout",
     "output_type": "stream",
     "text": [
      "              precision    recall  f1-score   support\n",
      "\n",
      "           0       0.33      0.43      0.37       306\n",
      "           1       0.48      0.57      0.52       362\n",
      "           2       0.32      0.38      0.35       375\n",
      "           3       0.23      0.24      0.24       172\n",
      "           4       0.26      0.30      0.28       299\n",
      "           5       0.20      0.24      0.22       497\n",
      "           6       0.31      0.33      0.32       332\n",
      "           7       0.33      0.37      0.35       226\n",
      "           8       0.42      0.41      0.41       301\n",
      "           9       0.28      0.31      0.29       392\n",
      "          10       0.21      0.23      0.22       299\n",
      "          11       0.21      0.24      0.23       263\n",
      "          12       0.34      0.35      0.35       192\n",
      "          13       0.40      0.36      0.38       309\n",
      "          14       0.21      0.19      0.20       181\n",
      "          15       0.30      0.29      0.30       247\n",
      "          16       0.32      0.34      0.33       427\n",
      "          17       0.20      0.20      0.20       274\n",
      "          18       0.30      0.33      0.31       412\n",
      "          19       0.41      0.34      0.37       241\n",
      "          20       0.18      0.21      0.19       243\n",
      "          21       0.27      0.26      0.26       444\n",
      "          22       0.31      0.34      0.32       229\n",
      "          23       0.31      0.30      0.31       191\n",
      "          24       0.50      0.53      0.52       129\n",
      "          25       0.32      0.32      0.32       464\n",
      "          26       0.45      0.47      0.46       354\n",
      "          27       0.73      0.82      0.78        97\n",
      "          28       0.31      0.35      0.33       377\n",
      "          29       0.26      0.23      0.25       315\n",
      "          30       0.22      0.22      0.22       362\n",
      "          31       0.29      0.26      0.27       231\n",
      "          32       0.36      0.38      0.37       217\n",
      "          33       0.34      0.30      0.32       303\n",
      "          34       0.31      0.31      0.31       254\n",
      "          35       0.26      0.20      0.23       127\n",
      "          36       0.36      0.38      0.37       317\n",
      "          37       0.26      0.22      0.24       409\n",
      "          38       0.30      0.26      0.28       217\n",
      "          39       0.28      0.30      0.29       249\n",
      "          40       0.24      0.24      0.24       331\n",
      "          41       0.27      0.30      0.28       609\n",
      "          42       0.39      0.39      0.39       484\n",
      "          43       0.33      0.29      0.31       195\n",
      "          44       0.29      0.27      0.28       228\n",
      "          45       0.41      0.51      0.46       172\n",
      "          46       0.37      0.41      0.39       408\n",
      "          47       0.26      0.27      0.26       318\n",
      "          48       0.34      0.34      0.34       649\n",
      "          49       0.31      0.32      0.32       198\n",
      "          50       0.30      0.27      0.28       408\n",
      "          51       0.23      0.24      0.23       281\n",
      "          52       0.43      0.46      0.44       318\n",
      "          53       0.26      0.20      0.22       106\n",
      "          54       0.49      0.44      0.46       242\n",
      "          55       0.21      0.21      0.21       302\n",
      "          56       0.32      0.33      0.32       305\n",
      "          57       0.26      0.27      0.26       220\n",
      "          58       0.28      0.28      0.28       339\n",
      "          59       0.35      0.35      0.35       456\n",
      "          60       0.18      0.21      0.19       119\n",
      "          61       0.22      0.24      0.23       270\n",
      "          62       0.30      0.31      0.31       401\n",
      "          63       0.35      0.38      0.36       202\n",
      "          64       0.38      0.41      0.39       540\n",
      "          65       0.50      0.54      0.52       529\n",
      "          66       0.48      0.47      0.47       219\n",
      "          67       0.33      0.31      0.32       215\n",
      "          68       0.30      0.28      0.29       395\n",
      "          69       0.36      0.31      0.33       286\n",
      "          70       0.30      0.30      0.30       393\n",
      "          71       0.35      0.31      0.33       197\n",
      "          72       0.31      0.28      0.29       380\n",
      "          73       0.23      0.22      0.22       258\n",
      "          74       0.86      0.79      0.82        38\n",
      "          75       0.16      0.16      0.16       123\n",
      "          76       0.27      0.24      0.26       257\n",
      "          77       0.31      0.29      0.30       334\n",
      "          78       0.24      0.27      0.25       305\n",
      "          79       0.47      0.40      0.43       245\n",
      "          80       0.46      0.49      0.47       184\n",
      "          81       0.27      0.26      0.27       212\n",
      "          82       0.37      0.36      0.37       384\n",
      "          83       0.25      0.22      0.23       392\n",
      "          84       0.32      0.32      0.32       238\n",
      "          85       0.26      0.23      0.25       275\n",
      "          86       0.34      0.31      0.32       180\n",
      "          87       0.40      0.32      0.35       173\n",
      "          88       0.42      0.34      0.38        83\n",
      "          89       0.26      0.19      0.22       203\n",
      "          90       0.27      0.24      0.26       338\n",
      "          91       0.37      0.37      0.37       901\n",
      "          92       0.34      0.28      0.31       193\n",
      "          93       0.21      0.18      0.19       183\n",
      "          94       0.24      0.22      0.23       226\n",
      "          95       0.39      0.35      0.37       441\n",
      "          96       0.34      0.34      0.34       297\n",
      "          97       0.38      0.34      0.36       365\n",
      "          98       0.36      0.32      0.33       461\n",
      "          99       0.28      0.24      0.26       334\n",
      "\n",
      "    accuracy                           0.32     29974\n",
      "   macro avg       0.32      0.32      0.32     29974\n",
      "weighted avg       0.32      0.32      0.32     29974\n",
      "\n"
     ]
    }
   ],
   "source": [
    "rfc=RandomForestClassifier(n_estimators=10, max_features='auto',\n",
    "                          random_state=101)\n",
    "rfc.fit(X_train, Y_train)\n",
    "preds=rfc.predict(X_test)\n",
    "from sklearn.metrics import confusion_matrix, classification_report, plot_confusion_matrix\n",
    "print(classification_report(Y_test, preds))"
   ]
  },
  {
   "cell_type": "code",
   "execution_count": null,
   "metadata": {},
   "outputs": [],
   "source": [
    "## accuracy score is around 32% under the random forest tree algorithmn"
   ]
  },
  {
   "cell_type": "code",
   "execution_count": null,
   "metadata": {},
   "outputs": [],
   "source": [
    "## hyperparameter tuning "
   ]
  },
  {
   "cell_type": "markdown",
   "metadata": {},
   "source": [
    "## 2. Second Algorithm - Guassian Naive Bayes\n",
    "\n",
    "**In statistics, naive Bayes classifiers are a family of simple \"probabilistic classifiers\" based on applying Bayes' theorem with strong independence assumptions between the features.**"
   ]
  },
  {
   "cell_type": "code",
   "execution_count": 117,
   "metadata": {},
   "outputs": [
    {
     "name": "stdout",
     "output_type": "stream",
     "text": [
      "Train Accuracy: 6.16%\n",
      "Test Accuracy: 6.16%\n"
     ]
    }
   ],
   "source": [
    "from sklearn.naive_bayes import GaussianNB\n",
    "from sklearn.metrics import accuracy_score\n",
    "\n",
    "#Training\n",
    "\n",
    "gnb = GaussianNB()\n",
    "gnb.fit(X_train,Y_train) \n",
    "\n",
    "#Prediction\n",
    "\n",
    "gnb_train_prediction = gnb.predict(X_train)\n",
    "gnb_test_prediction = gnb.predict(X_test)\n",
    "\n",
    "#Accuracy\n",
    "\n",
    "train_accuracy=accuracy_score(Y_train,gnb_train_prediction)\n",
    "test_accuracy=accuracy_score(Y_test,gnb_test_prediction)\n",
    "gnb_accuracy = test_accuracy\n",
    "\n",
    "#Print\n",
    "\n",
    "print(\"Train Accuracy: %.2f%%\" % (train_accuracy * 100.0))\n",
    "print(\"Test Accuracy: %.2f%%\" % (test_accuracy * 100.0))"
   ]
  },
  {
   "cell_type": "markdown",
   "metadata": {},
   "source": [
    "**Naive Bayes are not good enough to generalize over the entire data and produce very less results compared to other methods. This can be due to the fact that most features in the dataset are either one-hot vectors or have missing values, both of which become hindrances in achieving a good solution using this method.**"
   ]
  },
  {
   "cell_type": "markdown",
   "metadata": {},
   "source": [
    "## 3. Third Algorithm - Logistic Regression\n",
    "\n",
    "**Logistic regression is a statistical model that in its basic form uses a logistic function to model a binary dependent variable, although many more complex extensions exist. In regression analysis, logistic regression (or logit regression) is estimating the parameters of a logistic model (a form of binary regression).**\n",
    "\n",
    "**The model is used to model the probability of a certain class or event existing such as pass/fail, win/lose, alive/dead or healthy/sick. This can be extended to model several classes of events such as determining whether an image contains a cat, dog, lion, etc.**"
   ]
  },
  {
   "cell_type": "code",
   "execution_count": 120,
   "metadata": {},
   "outputs": [
    {
     "name": "stdout",
     "output_type": "stream",
     "text": [
      "Train Accuracy: 3.15%\n",
      "Test Accuracy: 3.23%\n"
     ]
    },
    {
     "name": "stderr",
     "output_type": "stream",
     "text": [
      "/Users/arissa/opt/anaconda3/lib/python3.8/site-packages/sklearn/linear_model/_logistic.py:762: ConvergenceWarning: lbfgs failed to converge (status=1):\n",
      "STOP: TOTAL NO. of ITERATIONS REACHED LIMIT.\n",
      "\n",
      "Increase the number of iterations (max_iter) or scale the data as shown in:\n",
      "    https://scikit-learn.org/stable/modules/preprocessing.html\n",
      "Please also refer to the documentation for alternative solver options:\n",
      "    https://scikit-learn.org/stable/modules/linear_model.html#logistic-regression\n",
      "  n_iter_i = _check_optimize_result(\n"
     ]
    }
   ],
   "source": [
    "from sklearn.linear_model import LogisticRegression\n",
    "from sklearn.metrics import accuracy_score\n",
    "\n",
    "#Training\n",
    "\n",
    "lr = LogisticRegression()\n",
    "lr.fit(X_train, Y_train)\n",
    "\n",
    "#Prediction\n",
    "\n",
    "lr_train_prediction = lr.predict(X_train)\n",
    "lr_test_prediction = lr.predict(X_test)\n",
    "\n",
    "#Accuracy\n",
    "\n",
    "train_accuracy=accuracy_score(Y_train,lr_train_prediction)\n",
    "test_accuracy=accuracy_score(Y_test,lr_test_prediction)\n",
    "lr_accuracy = test_accuracy\n",
    "\n",
    "#Print\n",
    "\n",
    "print(\"Train Accuracy: %.2f%%\" % (train_accuracy * 100.0))\n",
    "print(\"Test Accuracy: %.2f%%\" % (test_accuracy * 100.0))"
   ]
  },
  {
   "cell_type": "markdown",
   "metadata": {},
   "source": [
    "## 4. Fourth Algorithm - KNN\n",
    "\n",
    "**K-Nearest Neighbors (KNN) is one of the simplest algorithms used in Machine Learning for regression and classification problem. KNN algorithms use data and classify new data points based on similarity measures (e.g. distance function). Classification is done by a majority vote to its neighbors.**"
   ]
  },
  {
   "cell_type": "code",
   "execution_count": 121,
   "metadata": {},
   "outputs": [
    {
     "name": "stdout",
     "output_type": "stream",
     "text": [
      "Train Accuracy: 45.20%\n",
      "Test Accuracy: 22.35%\n"
     ]
    }
   ],
   "source": [
    "from sklearn import neighbors\n",
    "from sklearn.metrics import accuracy_score\n",
    "\n",
    "#Training\n",
    "\n",
    "knn = neighbors.KNeighborsClassifier()\n",
    "knn.fit(X_train,Y_train)\n",
    "\n",
    "#Prediction\n",
    "\n",
    "knn_train_prediction = knn.predict(X_train)\n",
    "knn_test_prediction = knn.predict(X_test)\n",
    "\n",
    "#Accuracy\n",
    "\n",
    "train_accuracy=accuracy_score(Y_train,knn_train_prediction)\n",
    "test_accuracy=accuracy_score(Y_test,knn_test_prediction)\n",
    "knn_accuracy = test_accuracy\n",
    "\n",
    "#Print\n",
    "\n",
    "print(\"Train Accuracy: %.2f%%\" % (train_accuracy * 100.0)) #42\n",
    "print(\"Test Accuracy: %.2f%%\" % (test_accuracy * 100.0)) #21"
   ]
  },
  {
   "cell_type": "markdown",
   "metadata": {},
   "source": [
    "## 5. Fifth Algorithm - XGBoost\n",
    "\n",
    "**XGBoost is a decision-tree-based ensemble Machine Learning algorithm that uses a gradient boosting framework.**"
   ]
  },
  {
   "cell_type": "code",
   "execution_count": 127,
   "metadata": {},
   "outputs": [
    {
     "name": "stdout",
     "output_type": "stream",
     "text": [
      "Updating Homebrew...\n",
      "\u001b[34m==>\u001b[0m \u001b[1mHomebrew is run entirely by unpaid volunteers. Please consider donating:\u001b[0m\n",
      "  \u001b[4mhttps://github.com/Homebrew/brew#donations\u001b[24m\n",
      "\u001b[34m==>\u001b[0m \u001b[1mAuto-updated Homebrew!\u001b[0m\n",
      "Updated 2 taps (homebrew/core and homebrew/cask).\n",
      "\u001b[34m==>\u001b[0m \u001b[1mNew Formulae\u001b[0m\n",
      "airspyhf                   firefoxpwa                 pari-galpol\n",
      "apt                        fst                        pari-seadata\n",
      "aws-vault                  ghostunnel                 pari-seadata-big\n",
      "bash_unit                  go@1.16                    procps\n",
      "basis_universal            h2c                        pyoxidizer\n",
      "bubblewrap                 hubble                     python-launcher\n",
      "bupstash                   i2c-tools                  reproc\n",
      "cargo-bloat                influxdb-cli               rsc_2fa\n",
      "cargo-llvm-lines           joplin-cli                 singularity\n",
      "cargo-outdated             kn                         spirv-llvm-translator\n",
      "chrpath                    libaec                     spot\n",
      "cilium-cli                 licensefinder              sql-lint\n",
      "cruft                      mailcatcher                stylua\n",
      "datree                     newrelic-infra-agent       umple\n",
      "doc8                       notcurses                  vite\n",
      "docuum                     onedrive                   vue-cli\n",
      "eigenpy                    opensearch-dashboards      wildmidi\n",
      "esbuild                    ots                        xauth\n",
      "f2                         pari-elldata               xsel\n",
      "fanyi                      pari-galdata\n",
      "\u001b[34m==>\u001b[0m \u001b[1mUpdated Formulae\u001b[0m\n",
      "Updated 2310 formulae.\n",
      "\u001b[34m==>\u001b[0m \u001b[1mRenamed Formulae\u001b[0m\n",
      "kafkacat -> kcat                         wxmac -> wxwidgets\n",
      "prestosql -> trino                       wxmac@3.0 -> wxwidgets@3.0\n",
      "\u001b[34m==>\u001b[0m \u001b[1mDeleted Formulae\u001b[0m\n",
      "giter8                                   terraform-provisioner-ansible\n",
      "procyon-decompiler                       tj\n",
      "\u001b[34m==>\u001b[0m \u001b[1mNew Casks\u001b[0m\n",
      "adguard-vpn                infra                      stork\n",
      "betterdiscord-installer    jiohome                    temurin\n",
      "blackhole-64ch             kdocs                      touch-portal\n",
      "blockbench                 leapp                      transfer\n",
      "clay                       maccleaner-pro             trezor-suite\n",
      "clock-signal               memory-cleaner             vsd-viewer\n",
      "duplicate-file-finder      midi-router-client         vsdx-annotator\n",
      "enigma                     mimestream                 vym\n",
      "fluent-reader              mweb-pro                   wifi-explorer-pro\n",
      "foxglove-studio            open-video-downloader      wing-personal\n",
      "gosign                     shottr                     zebra2\n",
      "hush                       sigmaos\n",
      "\u001b[34m==>\u001b[0m \u001b[1mUpdated Casks\u001b[0m\n",
      "Updated 970 casks.\n",
      "\u001b[34m==>\u001b[0m \u001b[1mDeleted Casks\u001b[0m\n",
      "3cxphone                                 mweb\n",
      "adafruit-arduino                         noraswitch\n",
      "adobe-lens-profile-creator               obyte\n",
      "agfeo-dashboard                          open-ecard\n",
      "anytrans                                 otter-browser\n",
      "anytrans-for-android                     pastor\n",
      "axe-electrum                             phonebrowse\n",
      "baiducloud                               phoneclean\n",
      "beautune                                 phonerescue\n",
      "blue-jeans-browser-plugin                phonetrans\n",
      "boonzi                                   playnow\n",
      "brooklite                                plecs-standalone\n",
      "caramba-switcher                         pomolectron\n",
      "colormunki-photo                         privatus\n",
      "deadbeef                                 pro-fit\n",
      "dnagedcom                                qtum\n",
      "dragthing                                qyooo\n",
      "dukto                                    rubitrack-pro\n",
      "eaccess                                  s3stat-setup\n",
      "elpki                                    scrooo\n",
      "finisher-fluxx                           simplelink-msp432e4-sdk\n",
      "finisher-micro                           spectrum\n",
      "finisher-neo                             stageplotpro\n",
      "flow-e                                   superbeam\n",
      "fluxcenter                               tbs-studio\n",
      "fm3-edit                                 thetube\n",
      "imarisviewer                             trufont\n",
      "imobie-m1-app-checker                    uberconference\n",
      "instant-articles-builder                 unity-appletv-support-for-editor\n",
      "instasizer                               unity-linux-il2cpp-support-for-editor\n",
      "jabt-flow                                unity-macos-il2cpp-support-for-editor\n",
      "jidusm                                   utox\n",
      "lektor                                   wanna\n",
      "lightwright                              wingpersonal\n",
      "locklizard-safeguard-viewer              wolfram-player\n",
      "macclean                                 youtube-dl-gui\n",
      "macintosh-explorer                       zbuc-imgur\n",
      "modulair\n",
      "\n",
      "\u001b[34m==>\u001b[0m \u001b[1mDownloading https://ghcr.io/v2/homebrew/core/libomp/manifests/12.0.1\u001b[0m\n",
      "######################################################################## 100.0%\n",
      "\u001b[34m==>\u001b[0m \u001b[1mDownloading https://ghcr.io/v2/homebrew/core/libomp/blobs/sha256:1c84ee05772\u001b[0m\n",
      "\u001b[34m==>\u001b[0m \u001b[1mDownloading from https://pkg-containers.githubusercontent.com/ghcr1/blobs/sh\u001b[0m\n",
      "######################################################################## 100.0%\n",
      "\u001b[34m==>\u001b[0m \u001b[1mPouring libomp--12.0.1.catalina.bottle.tar.gz\u001b[0m\n",
      "🍺  /usr/local/Cellar/libomp/12.0.1: 9 files, 1.5MB\n",
      "\u001b[34m==>\u001b[0m \u001b[1m`brew cleanup` has not been run in 30 days, running now...\u001b[0m\n",
      "Pruned 12 symbolic links and 7 directories from /usr/local\n"
     ]
    },
    {
     "name": "stderr",
     "output_type": "stream",
     "text": [
      "/Users/arissa/opt/anaconda3/lib/python3.8/site-packages/xgboost/sklearn.py:1146: UserWarning: The use of label encoder in XGBClassifier is deprecated and will be removed in a future release. To remove this warning, do the following: 1) Pass option use_label_encoder=False when constructing XGBClassifier object; and 2) Encode your labels (y) as integers starting with 0, i.e. 0, 1, 2, ..., [num_class - 1].\n",
      "  warnings.warn(label_encoder_deprecation_msg, UserWarning)\n"
     ]
    },
    {
     "name": "stdout",
     "output_type": "stream",
     "text": [
      "[17:16:22] WARNING: /Users/travis/build/dmlc/xgboost/src/learner.cc:1095: Starting in XGBoost 1.3.0, the default evaluation metric used with the objective 'multi:softprob' was changed from 'merror' to 'mlogloss'. Explicitly set eval_metric if you'd like to restore the old behavior.\n",
      "Train Accuracy: 51.61%\n",
      "Test Accuracy: 29.18%\n"
     ]
    }
   ],
   "source": [
    "!brew install libomp\n",
    "from xgboost import XGBClassifier\n",
    "from sklearn.metrics import accuracy_score\n",
    "\n",
    "#Training\n",
    "\n",
    "xgb = XGBClassifier()\n",
    "xgb.fit(X_train, Y_train)\n",
    "\n",
    "#Prediction\n",
    "\n",
    "xgb_train_prediction = xgb.predict(X_train)\n",
    "xgb_test_prediction = xgb.predict(X_test)\n",
    "\n",
    "#Accuracy\n",
    "\n",
    "train_accuracy = accuracy_score(Y_train, xgb_train_prediction)\n",
    "test_accuracy = accuracy_score(Y_test, xgb_test_prediction)\n",
    "xgb_accuracy = test_accuracy\n",
    "\n",
    "#Printing\n",
    "\n",
    "print(\"Train Accuracy: %.2f%%\" % (train_accuracy * 100.0)) #52\n",
    "print(\"Test Accuracy: %.2f%%\" % (test_accuracy * 100.0)) #28"
   ]
  },
  {
   "cell_type": "markdown",
   "metadata": {},
   "source": [
    "**XGBoost has a performance very slightly less to that of Random Forest. This is because both these methods work in a similar manner, handling both categorical features efficiently.**."
   ]
  },
  {
   "cell_type": "markdown",
   "metadata": {},
   "source": [
    "## 6. Sixth Algorithm - Decision Tree\n",
    "\n",
    "**A decision tree is a decision support tool that uses a tree-like model of decisions and their possible consequences, including chance event outcomes, resource costs, and utility. It is one way to display an algorithm that only contains conditional control statements.**"
   ]
  },
  {
   "cell_type": "code",
   "execution_count": 128,
   "metadata": {},
   "outputs": [
    {
     "name": "stdout",
     "output_type": "stream",
     "text": [
      "Train Accuracy: 91.20%\n",
      "Test Accuracy: 33.32%\n"
     ]
    }
   ],
   "source": [
    "from sklearn.tree import DecisionTreeClassifier\n",
    "from sklearn.metrics import accuracy_score\n",
    "\n",
    "#Training\n",
    "\n",
    "dt = DecisionTreeClassifier()\n",
    "dt.fit(X_train, Y_train)\n",
    "\n",
    "#Prediction\n",
    "\n",
    "dt_train_prediction = dt.predict(X_train)\n",
    "dt_test_prediction = dt.predict(X_test)\n",
    "\n",
    "#Accuracy\n",
    "\n",
    "train_accuracy = accuracy_score(Y_train, dt_train_prediction)\n",
    "test_accuracy = accuracy_score(Y_test, dt_test_prediction)\n",
    "dt_accuracy = test_accuracy\n",
    "\n",
    "#Printing\n",
    "\n",
    "print(\"Train Accuracy: %.2f%%\" % (train_accuracy * 100.0)) #70\n",
    "print(\"Test Accuracy: %.2f%%\" % (test_accuracy * 100.0)) #27"
   ]
  },
  {
   "cell_type": "code",
   "execution_count": 129,
   "metadata": {},
   "outputs": [
    {
     "data": {
      "text/plain": [
       "[33.09201307800093,\n",
       " 6.155334623340228,\n",
       " 3.2328017615266567,\n",
       " 22.352705678254488,\n",
       " 29.17862147194235,\n",
       " 33.32221258423967]"
      ]
     },
     "execution_count": 129,
     "metadata": {},
     "output_type": "execute_result"
    }
   ],
   "source": [
    "accuracy=[rf_accuracy*100,gnb_accuracy*100,lr_accuracy*100,knn_accuracy*100,xgb_accuracy*100,dt_accuracy*100]\n",
    "accuracy"
   ]
  },
  {
   "cell_type": "code",
   "execution_count": null,
   "metadata": {},
   "outputs": [],
   "source": [
    "# We find that random tree and decision tree have relatively good test predictions. "
   ]
  },
  {
   "cell_type": "code",
   "execution_count": 130,
   "metadata": {},
   "outputs": [
    {
     "data": {
      "text/plain": [
       "array([[0.        , 0.        , 0.        , ..., 0.025     , 0.0375    ,\n",
       "        0.        ],\n",
       "       [0.        , 0.        , 0.        , ..., 0.        , 0.        ,\n",
       "        0.        ],\n",
       "       [0.        , 0.        , 0.        , ..., 0.        , 0.0375    ,\n",
       "        0.        ],\n",
       "       ...,\n",
       "       [0.        , 0.        , 0.        , ..., 0.        , 0.        ,\n",
       "        0.        ],\n",
       "       [0.0125    , 0.        , 0.        , ..., 0.        , 0.        ,\n",
       "        0.        ],\n",
       "       [0.        , 0.        , 0.        , ..., 0.0125    , 0.34092262,\n",
       "        0.        ]])"
      ]
     },
     "execution_count": 130,
     "metadata": {},
     "output_type": "execute_result"
    }
   ],
   "source": [
    "prob_predictions_train = rf.predict_proba(X_train)\n",
    "prob_predictions_train"
   ]
  },
  {
   "cell_type": "code",
   "execution_count": 131,
   "metadata": {},
   "outputs": [
    {
     "data": {
      "text/plain": [
       "array([[0.        , 0.        , 0.        , ..., 0.        , 0.        ,\n",
       "        0.        ],\n",
       "       [0.        , 0.        , 0.        , ..., 0.        , 0.        ,\n",
       "        0.        ],\n",
       "       [0.0625    , 0.        , 0.0125    , ..., 0.        , 0.        ,\n",
       "        0.        ],\n",
       "       ...,\n",
       "       [0.        , 0.        , 0.        , ..., 0.        , 0.        ,\n",
       "        0.0125    ],\n",
       "       [0.        , 0.0125    , 0.        , ..., 0.0125    , 0.0125    ,\n",
       "        0.675     ],\n",
       "       [0.        , 0.        , 0.18651786, ..., 0.        , 0.07232143,\n",
       "        0.        ]])"
      ]
     },
     "execution_count": 131,
     "metadata": {},
     "output_type": "execute_result"
    }
   ],
   "source": [
    "prob_predictions_test = rf.predict_proba(X_test)\n",
    "prob_predictions_test"
   ]
  },
  {
   "cell_type": "code",
   "execution_count": 132,
   "metadata": {},
   "outputs": [
    {
     "data": {
      "text/plain": [
       "(169849, 100)"
      ]
     },
     "execution_count": 132,
     "metadata": {},
     "output_type": "execute_result"
    }
   ],
   "source": [
    "# we have 100 hotel cluster \n",
    "\n",
    "prob_predictions_train.shape"
   ]
  },
  {
   "cell_type": "code",
   "execution_count": 142,
   "metadata": {},
   "outputs": [
    {
     "data": {
      "text/plain": [
       "array([[ 0, 71, 67, ..., 98, 41, 53],\n",
       "       [ 0, 70, 69, ..., 63, 81, 57],\n",
       "       [ 0, 72, 71, ..., 98, 70, 69],\n",
       "       ...,\n",
       "       [ 0, 72, 71, ..., 36, 99, 43],\n",
       "       [49, 71, 70, ..., 26,  0, 21],\n",
       "       [ 0, 71, 70, ..., 68, 64, 98]])"
      ]
     },
     "execution_count": 142,
     "metadata": {},
     "output_type": "execute_result"
    }
   ],
   "source": [
    "top_train_hotel_clusters = prob_predictions_train.argsort(axis=1)\n",
    "top_train_hotel_clusters"
   ]
  },
  {
   "cell_type": "code",
   "execution_count": 143,
   "metadata": {},
   "outputs": [
    {
     "data": {
      "text/plain": [
       "(0.7, 0.0)"
      ]
     },
     "execution_count": 143,
     "metadata": {},
     "output_type": "execute_result"
    }
   ],
   "source": [
    "prob_predictions_train[0,53], prob_predictions_train[0,0]"
   ]
  },
  {
   "cell_type": "code",
   "execution_count": 144,
   "metadata": {},
   "outputs": [
    {
     "data": {
      "text/plain": [
       "array([[53, 41, 98, ..., 67, 71,  0],\n",
       "       [57, 81, 63, ..., 69, 70,  0],\n",
       "       [69, 70, 98, ..., 71, 72,  0],\n",
       "       ...,\n",
       "       [43, 99, 36, ..., 71, 72,  0],\n",
       "       [21,  0, 26, ..., 70, 71, 49],\n",
       "       [98, 64, 68, ..., 70, 71,  0]])"
      ]
     },
     "execution_count": 144,
     "metadata": {},
     "output_type": "execute_result"
    }
   ],
   "source": [
    "\n",
    "# we flip it because 53 has the highest probability \n",
    "np.flip(prob_predictions_train.argsort(axis=1), axis=1)"
   ]
  },
  {
   "cell_type": "code",
   "execution_count": 145,
   "metadata": {},
   "outputs": [
    {
     "data": {
      "text/plain": [
       "array([[53, 41, 98, 97, 34],\n",
       "       [57, 81, 63, 20, 85],\n",
       "       [69, 70, 98, 21, 41],\n",
       "       ...,\n",
       "       [43, 99, 36, 26, 27],\n",
       "       [21,  0, 26, 94, 28],\n",
       "       [98, 64, 68, 97, 95]])"
      ]
     },
     "execution_count": 145,
     "metadata": {},
     "output_type": "execute_result"
    }
   ],
   "source": [
    "temp = np.flip(prob_predictions_train.argsort(axis=1), axis=1)[:,0:5]\n",
    "temp"
   ]
  },
  {
   "cell_type": "code",
   "execution_count": 146,
   "metadata": {},
   "outputs": [
    {
     "data": {
      "text/plain": [
       "119465    53\n",
       "38940     57\n",
       "30440     69\n",
       "44200     98\n",
       "140599    83\n",
       "          ..\n",
       "73397     67\n",
       "109336    64\n",
       "50086     43\n",
       "5194      21\n",
       "128134    68\n",
       "Name: hotel_cluster, Length: 169849, dtype: int64"
      ]
     },
     "execution_count": 146,
     "metadata": {},
     "output_type": "execute_result"
    }
   ],
   "source": [
    "# actual variable the algorithm should be predicted \n",
    "# we can see three are a lot of overlaps \n",
    "Y_train"
   ]
  },
  {
   "cell_type": "code",
   "execution_count": 147,
   "metadata": {},
   "outputs": [
    {
     "data": {
      "text/plain": [
       "array([53, 57, 69, ..., 43, 21, 98])"
      ]
     },
     "execution_count": 147,
     "metadata": {},
     "output_type": "execute_result"
    }
   ],
   "source": [
    "rf_train_prediction"
   ]
  },
  {
   "cell_type": "code",
   "execution_count": 148,
   "metadata": {},
   "outputs": [
    {
     "data": {
      "text/plain": [
       "0         53\n",
       "1         57\n",
       "2         69\n",
       "3         98\n",
       "4         83\n",
       "          ..\n",
       "169844    67\n",
       "169845    64\n",
       "169846    43\n",
       "169847    21\n",
       "169848    68\n",
       "Name: hotel_cluster, Length: 169849, dtype: int64"
      ]
     },
     "execution_count": 148,
     "metadata": {},
     "output_type": "execute_result"
    }
   ],
   "source": [
    "# reset index and then we can compare it with predicition\n",
    "y_train_index_reset = Y_train.reset_index(drop=True)\n",
    "y_train_index_reset"
   ]
  },
  {
   "cell_type": "code",
   "execution_count": 152,
   "metadata": {},
   "outputs": [
    {
     "data": {
      "text/plain": [
       "168818"
      ]
     },
     "execution_count": 152,
     "metadata": {},
     "output_type": "execute_result"
    }
   ],
   "source": [
    "# y_train_index_reset = Y_train.reset_index()\n",
    "predicted_in_top_5 = 0\n",
    "for i in range(len(y_train_index_reset)-1):\n",
    "    if y_train_index_reset[i] in temp[i,:]:\n",
    "        predicted_in_top_5 = predicted_in_top_5 + 1\n",
    "predicted_in_top_5"
   ]
  },
  {
   "cell_type": "code",
   "execution_count": 153,
   "metadata": {},
   "outputs": [
    {
     "data": {
      "text/plain": [
       "99.39299024427581"
      ]
     },
     "execution_count": 153,
     "metadata": {},
     "output_type": "execute_result"
    }
   ],
   "source": [
    "predicted_in_top_5/len(y_train_index_reset) * 100"
   ]
  },
  {
   "cell_type": "code",
   "execution_count": 155,
   "metadata": {},
   "outputs": [
    {
     "name": "stdout",
     "output_type": "stream",
     "text": [
      "99.39299024427581\n"
     ]
    }
   ],
   "source": [
    "# write all previous sytax in one cell\n",
    "\n",
    "\n",
    "# this is train dataset \n",
    "k = 5\n",
    "temp = np.flip(prob_predictions_train.argsort(axis=1), axis=1)[:,0:k]\n",
    "predicted_in_top_k = 0\n",
    "for i in range(len(y_train_index_reset)-1):\n",
    "    if y_train_index_reset[i] in temp[i,:]:\n",
    "        predicted_in_top_k = predicted_in_top_k + 1\n",
    "predicted_in_top_k\n",
    "accuracy = predicted_in_top_k/len(y_train_index_reset) * 100\n",
    "print(accuracy)"
   ]
  },
  {
   "cell_type": "code",
   "execution_count": 154,
   "metadata": {},
   "outputs": [
    {
     "name": "stdout",
     "output_type": "stream",
     "text": [
      "60.439047174217656\n"
     ]
    }
   ],
   "source": [
    "# top_test_hotel_clusters = prob_predictions_test.argsort(axis=1)\n",
    "\n",
    "# this is train dataset \n",
    "# accuracy increases to 60%\n",
    "k = 5\n",
    "temp = np.flip(prob_predictions_test.argsort(axis=1), axis=1)[:,0:k]\n",
    "y_test_index_reset = Y_test.reset_index(drop=True)\n",
    "predicted_in_top_k = 0\n",
    "for i in range(len(y_test_index_reset)-1):\n",
    "    if y_test_index_reset[i] in temp[i,:]:\n",
    "        predicted_in_top_k = predicted_in_top_k + 1\n",
    "predicted_in_top_k\n",
    "accuracy = predicted_in_top_k/len(y_test_index_reset) * 100\n",
    "print(accuracy)"
   ]
  },
  {
   "cell_type": "code",
   "execution_count": 156,
   "metadata": {},
   "outputs": [
    {
     "name": "stdout",
     "output_type": "stream",
     "text": [
      "33.12203910055381\n"
     ]
    }
   ],
   "source": [
    "# if k is set as 1, the prediction becomes 33% again.\n",
    "\n",
    "k = 1\n",
    "temp = np.flip(prob_predictions_test.argsort(axis=1), axis=1)[:,0:k]\n",
    "y_test_index_reset = Y_test.reset_index(drop=True)\n",
    "predicted_in_top_k = 0\n",
    "for i in range(len(y_test_index_reset)-1):\n",
    "    if y_test_index_reset[i] in temp[i,:]:\n",
    "        predicted_in_top_k = predicted_in_top_k + 1\n",
    "predicted_in_top_k\n",
    "accuracy = predicted_in_top_k/len(y_test_index_reset) * 100\n",
    "print(accuracy)"
   ]
  },
  {
   "cell_type": "code",
   "execution_count": null,
   "metadata": {},
   "outputs": [],
   "source": []
  },
  {
   "cell_type": "code",
   "execution_count": null,
   "metadata": {},
   "outputs": [],
   "source": []
  },
  {
   "cell_type": "code",
   "execution_count": null,
   "metadata": {},
   "outputs": [],
   "source": []
  }
 ],
 "metadata": {
  "kernelspec": {
   "display_name": "Python 3",
   "language": "python",
   "name": "python3"
  },
  "language_info": {
   "codemirror_mode": {
    "name": "ipython",
    "version": 3
   },
   "file_extension": ".py",
   "mimetype": "text/x-python",
   "name": "python",
   "nbconvert_exporter": "python",
   "pygments_lexer": "ipython3",
   "version": "3.8.5"
  }
 },
 "nbformat": 4,
 "nbformat_minor": 4
}
